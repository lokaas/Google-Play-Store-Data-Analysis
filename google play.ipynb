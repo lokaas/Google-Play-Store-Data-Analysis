{
 "cells": [
  {
   "cell_type": "markdown",
   "metadata": {},
   "source": [
    "![google_play](google_play.png)\n"
   ]
  },
  {
   "cell_type": "markdown",
   "metadata": {},
   "source": [
    "## Steps:\n",
    "\n",
    "1-Read CSV with PySpark\n",
    "\n",
    "2-Importing libraries\n",
    "\n",
    "3-load the Data\n",
    "\n",
    "4-Description of Data\n",
    "\n",
    "5-Cleaning the Data\n",
    "\n",
    "6-Top 10 Highest rating Apps in google play store in terms of categories\n",
    "\n",
    "7-Number of Application in terms of Category\n",
    "\n",
    "8-Top 10 apps which has more downloads\n",
    "\n",
    "9-Which 10 apps from the 'FAMILY' category are having the lowest rating and highest rating.\n",
    "\n",
    "10-Free and Paid Apps\n",
    "\n",
    "11-Relation between app category and app price\n",
    "\n",
    "12-Filter out \"junk\" apps\n",
    "\n",
    "13-Sentiment analysis of user reviews"
   ]
  },
  {
   "cell_type": "markdown",
   "metadata": {},
   "source": [
    "## Read CSV with PySpark"
   ]
  },
  {
   "cell_type": "code",
   "execution_count": 1,
   "metadata": {},
   "outputs": [],
   "source": [
    "import pyspark"
   ]
  },
  {
   "cell_type": "code",
   "execution_count": 2,
   "metadata": {},
   "outputs": [],
   "source": [
    "from pyspark.sql import SparkSession"
   ]
  },
  {
   "cell_type": "code",
   "execution_count": 3,
   "metadata": {},
   "outputs": [],
   "source": [
    "spark=SparkSession.builder.appName('LoadData').getOrCreate()"
   ]
  },
  {
   "cell_type": "code",
   "execution_count": 4,
   "metadata": {},
   "outputs": [],
   "source": [
    "file_path='/home/bigdata/Desktop/task/googleplaystore-1.csv'"
   ]
  },
  {
   "cell_type": "code",
   "execution_count": 5,
   "metadata": {},
   "outputs": [],
   "source": [
    "df = spark.read.option(\"header\", \"true\").csv(file_path)"
   ]
  },
  {
   "cell_type": "code",
   "execution_count": 6,
   "metadata": {},
   "outputs": [
    {
     "name": "stdout",
     "output_type": "stream",
     "text": [
      "+--------------------+--------------+------+-------+----+-----------+----+-----+--------------+--------------------+------------------+------------------+------------+\n",
      "|                 App|      Category|Rating|Reviews|Size|   Installs|Type|Price|Content Rating|              Genres|      Last Updated|       Current Ver| Android Ver|\n",
      "+--------------------+--------------+------+-------+----+-----------+----+-----+--------------+--------------------+------------------+------------------+------------+\n",
      "|Photo Editor & Ca...|ART_AND_DESIGN|   4.1|    159| 19M|    10,000+|Free|    0|      Everyone|        Art & Design|   January 7, 2018|             1.0.0|4.0.3 and up|\n",
      "| Coloring book moana|ART_AND_DESIGN|   3.9|    967| 14M|   500,000+|Free|    0|      Everyone|Art & Design;Pret...|  January 15, 2018|             2.0.0|4.0.3 and up|\n",
      "|U Launcher Lite –...|ART_AND_DESIGN|   4.7|  87510|8.7M| 5,000,000+|Free|    0|      Everyone|        Art & Design|    August 1, 2018|             1.2.4|4.0.3 and up|\n",
      "|Sketch - Draw & P...|ART_AND_DESIGN|   4.5| 215644| 25M|50,000,000+|Free|    0|          Teen|        Art & Design|      June 8, 2018|Varies with device|  4.2 and up|\n",
      "|Pixel Draw - Numb...|ART_AND_DESIGN|   4.3|    967|2.8M|   100,000+|Free|    0|      Everyone|Art & Design;Crea...|     June 20, 2018|               1.1|  4.4 and up|\n",
      "|Paper flowers ins...|ART_AND_DESIGN|   4.4|    167|5.6M|    50,000+|Free|    0|      Everyone|        Art & Design|    March 26, 2017|               1.0|  2.3 and up|\n",
      "|Smoke Effect Phot...|ART_AND_DESIGN|   3.8|    178| 19M|    50,000+|Free|    0|      Everyone|        Art & Design|    April 26, 2018|               1.1|4.0.3 and up|\n",
      "|    Infinite Painter|ART_AND_DESIGN|   4.1|  36815| 29M| 1,000,000+|Free|    0|      Everyone|        Art & Design|     June 14, 2018|          6.1.61.1|  4.2 and up|\n",
      "|Garden Coloring Book|ART_AND_DESIGN|   4.4|  13791| 33M| 1,000,000+|Free|    0|      Everyone|        Art & Design|September 20, 2017|             2.9.2|  3.0 and up|\n",
      "|Kids Paint Free -...|ART_AND_DESIGN|   4.7|    121|3.1M|    10,000+|Free|    0|      Everyone|Art & Design;Crea...|      July 3, 2018|               2.8|4.0.3 and up|\n",
      "|Text on Photo - F...|ART_AND_DESIGN|   4.4|  13880| 28M| 1,000,000+|Free|    0|      Everyone|        Art & Design|  October 27, 2017|             1.0.4|  4.1 and up|\n",
      "|Name Art Photo Ed...|ART_AND_DESIGN|   4.4|   8788| 12M| 1,000,000+|Free|    0|      Everyone|        Art & Design|     July 31, 2018|            1.0.15|  4.0 and up|\n",
      "|Tattoo Name On My...|ART_AND_DESIGN|   4.2|  44829| 20M|10,000,000+|Free|    0|          Teen|        Art & Design|     April 2, 2018|               3.8|  4.1 and up|\n",
      "|Mandala Coloring ...|ART_AND_DESIGN|   4.6|   4326| 21M|   100,000+|Free|    0|      Everyone|        Art & Design|     June 26, 2018|             1.0.4|  4.4 and up|\n",
      "|3D Color Pixel by...|ART_AND_DESIGN|   4.4|   1518| 37M|   100,000+|Free|    0|      Everyone|        Art & Design|    August 3, 2018|             1.2.3|  2.3 and up|\n",
      "|Learn To Draw Kaw...|ART_AND_DESIGN|   3.2|     55|2.7M|     5,000+|Free|    0|      Everyone|        Art & Design|      June 6, 2018|               NaN|  4.2 and up|\n",
      "|Photo Designer - ...|ART_AND_DESIGN|   4.7|   3632|5.5M|   500,000+|Free|    0|      Everyone|        Art & Design|     July 31, 2018|               3.1|  4.1 and up|\n",
      "|350 Diy Room Deco...|ART_AND_DESIGN|   4.5|     27| 17M|    10,000+|Free|    0|      Everyone|        Art & Design|  November 7, 2017|               1.0|  2.3 and up|\n",
      "|FlipaClip - Carto...|ART_AND_DESIGN|   4.3| 194216| 39M| 5,000,000+|Free|    0|      Everyone|        Art & Design|    August 3, 2018|             2.2.5|4.0.3 and up|\n",
      "|        ibis Paint X|ART_AND_DESIGN|   4.6| 224399| 31M|10,000,000+|Free|    0|      Everyone|        Art & Design|     July 30, 2018|             5.5.4|  4.1 and up|\n",
      "+--------------------+--------------+------+-------+----+-----------+----+-----+--------------+--------------------+------------------+------------------+------------+\n",
      "only showing top 20 rows\n",
      "\n"
     ]
    }
   ],
   "source": [
    "df.show()"
   ]
  },
  {
   "cell_type": "markdown",
   "metadata": {},
   "source": [
    "## Importing the libraries"
   ]
  },
  {
   "cell_type": "code",
   "execution_count": 7,
   "metadata": {},
   "outputs": [],
   "source": [
    "import pandas as pd\n",
    "import numpy as np\n",
    "import matplotlib.pyplot as plt\n",
    "from datetime import datetime\n",
    "import seaborn as sns"
   ]
  },
  {
   "cell_type": "markdown",
   "metadata": {},
   "source": [
    "## Convert Spark DataFrame to Pandas"
   ]
  },
  {
   "cell_type": "code",
   "execution_count": 8,
   "metadata": {},
   "outputs": [],
   "source": [
    "data = df.toPandas()"
   ]
  },
  {
   "cell_type": "code",
   "execution_count": 9,
   "metadata": {
    "scrolled": true
   },
   "outputs": [
    {
     "data": {
      "text/html": [
       "<div>\n",
       "<style scoped>\n",
       "    .dataframe tbody tr th:only-of-type {\n",
       "        vertical-align: middle;\n",
       "    }\n",
       "\n",
       "    .dataframe tbody tr th {\n",
       "        vertical-align: top;\n",
       "    }\n",
       "\n",
       "    .dataframe thead th {\n",
       "        text-align: right;\n",
       "    }\n",
       "</style>\n",
       "<table border=\"1\" class=\"dataframe\">\n",
       "  <thead>\n",
       "    <tr style=\"text-align: right;\">\n",
       "      <th></th>\n",
       "      <th>App</th>\n",
       "      <th>Category</th>\n",
       "      <th>Rating</th>\n",
       "      <th>Reviews</th>\n",
       "      <th>Size</th>\n",
       "      <th>Installs</th>\n",
       "      <th>Type</th>\n",
       "      <th>Price</th>\n",
       "      <th>Content Rating</th>\n",
       "      <th>Genres</th>\n",
       "      <th>Last Updated</th>\n",
       "      <th>Current Ver</th>\n",
       "      <th>Android Ver</th>\n",
       "    </tr>\n",
       "  </thead>\n",
       "  <tbody>\n",
       "    <tr>\n",
       "      <td>0</td>\n",
       "      <td>Photo Editor &amp; Candy Camera &amp; Grid &amp; ScrapBook</td>\n",
       "      <td>ART_AND_DESIGN</td>\n",
       "      <td>4.1</td>\n",
       "      <td>159</td>\n",
       "      <td>19M</td>\n",
       "      <td>10,000+</td>\n",
       "      <td>Free</td>\n",
       "      <td>0</td>\n",
       "      <td>Everyone</td>\n",
       "      <td>Art &amp; Design</td>\n",
       "      <td>January 7, 2018</td>\n",
       "      <td>1.0.0</td>\n",
       "      <td>4.0.3 and up</td>\n",
       "    </tr>\n",
       "    <tr>\n",
       "      <td>1</td>\n",
       "      <td>Coloring book moana</td>\n",
       "      <td>ART_AND_DESIGN</td>\n",
       "      <td>3.9</td>\n",
       "      <td>967</td>\n",
       "      <td>14M</td>\n",
       "      <td>500,000+</td>\n",
       "      <td>Free</td>\n",
       "      <td>0</td>\n",
       "      <td>Everyone</td>\n",
       "      <td>Art &amp; Design;Pretend Play</td>\n",
       "      <td>January 15, 2018</td>\n",
       "      <td>2.0.0</td>\n",
       "      <td>4.0.3 and up</td>\n",
       "    </tr>\n",
       "    <tr>\n",
       "      <td>2</td>\n",
       "      <td>U Launcher Lite – FREE Live Cool Themes, Hide ...</td>\n",
       "      <td>ART_AND_DESIGN</td>\n",
       "      <td>4.7</td>\n",
       "      <td>87510</td>\n",
       "      <td>8.7M</td>\n",
       "      <td>5,000,000+</td>\n",
       "      <td>Free</td>\n",
       "      <td>0</td>\n",
       "      <td>Everyone</td>\n",
       "      <td>Art &amp; Design</td>\n",
       "      <td>August 1, 2018</td>\n",
       "      <td>1.2.4</td>\n",
       "      <td>4.0.3 and up</td>\n",
       "    </tr>\n",
       "    <tr>\n",
       "      <td>3</td>\n",
       "      <td>Sketch - Draw &amp; Paint</td>\n",
       "      <td>ART_AND_DESIGN</td>\n",
       "      <td>4.5</td>\n",
       "      <td>215644</td>\n",
       "      <td>25M</td>\n",
       "      <td>50,000,000+</td>\n",
       "      <td>Free</td>\n",
       "      <td>0</td>\n",
       "      <td>Teen</td>\n",
       "      <td>Art &amp; Design</td>\n",
       "      <td>June 8, 2018</td>\n",
       "      <td>Varies with device</td>\n",
       "      <td>4.2 and up</td>\n",
       "    </tr>\n",
       "    <tr>\n",
       "      <td>4</td>\n",
       "      <td>Pixel Draw - Number Art Coloring Book</td>\n",
       "      <td>ART_AND_DESIGN</td>\n",
       "      <td>4.3</td>\n",
       "      <td>967</td>\n",
       "      <td>2.8M</td>\n",
       "      <td>100,000+</td>\n",
       "      <td>Free</td>\n",
       "      <td>0</td>\n",
       "      <td>Everyone</td>\n",
       "      <td>Art &amp; Design;Creativity</td>\n",
       "      <td>June 20, 2018</td>\n",
       "      <td>1.1</td>\n",
       "      <td>4.4 and up</td>\n",
       "    </tr>\n",
       "  </tbody>\n",
       "</table>\n",
       "</div>"
      ],
      "text/plain": [
       "                                                 App        Category Rating  \\\n",
       "0     Photo Editor & Candy Camera & Grid & ScrapBook  ART_AND_DESIGN    4.1   \n",
       "1                                Coloring book moana  ART_AND_DESIGN    3.9   \n",
       "2  U Launcher Lite – FREE Live Cool Themes, Hide ...  ART_AND_DESIGN    4.7   \n",
       "3                              Sketch - Draw & Paint  ART_AND_DESIGN    4.5   \n",
       "4              Pixel Draw - Number Art Coloring Book  ART_AND_DESIGN    4.3   \n",
       "\n",
       "  Reviews  Size     Installs  Type Price Content Rating  \\\n",
       "0     159   19M      10,000+  Free     0       Everyone   \n",
       "1     967   14M     500,000+  Free     0       Everyone   \n",
       "2   87510  8.7M   5,000,000+  Free     0       Everyone   \n",
       "3  215644   25M  50,000,000+  Free     0           Teen   \n",
       "4     967  2.8M     100,000+  Free     0       Everyone   \n",
       "\n",
       "                      Genres      Last Updated         Current Ver  \\\n",
       "0               Art & Design   January 7, 2018               1.0.0   \n",
       "1  Art & Design;Pretend Play  January 15, 2018               2.0.0   \n",
       "2               Art & Design    August 1, 2018               1.2.4   \n",
       "3               Art & Design      June 8, 2018  Varies with device   \n",
       "4    Art & Design;Creativity     June 20, 2018                 1.1   \n",
       "\n",
       "    Android Ver  \n",
       "0  4.0.3 and up  \n",
       "1  4.0.3 and up  \n",
       "2  4.0.3 and up  \n",
       "3    4.2 and up  \n",
       "4    4.4 and up  "
      ]
     },
     "execution_count": 9,
     "metadata": {},
     "output_type": "execute_result"
    }
   ],
   "source": [
    "data.head()"
   ]
  },
  {
   "cell_type": "markdown",
   "metadata": {},
   "source": [
    "## Main Dataset\n",
    "This file contains data on the Google Play applications. It has 10,841 rows of data with the following columns:\n",
    "\n",
    "App : Name of the app\n",
    "\n",
    "Category: Category of the app. This could be beauty, business, entertainment, education...etc.\n",
    "\n",
    "Rating: How users rate the app out of 5, with 1 being the lowest rating and 5 being the highest.\n",
    "\n",
    "Reviews: The number of user reviews each app has received.\n",
    "\n",
    "Size: The memory size needed to install the application.\n",
    "\n",
    "Installs: The number of times each application has been installed by users.\n",
    "\n",
    "Type: Whether the app is free or a paid app.\n",
    "\n",
    "Price: The price of the app.\n",
    "\n",
    "Content Rating: This column specifies the intended audience for the app. Can be for teens, mature audience, or everyone.\n",
    "\n",
    "Genres: The sub-category for each app. Example: for the Education category, this could be Education: Pretend Play, for example.\n",
    "\n",
    "Last Updated: Release date of the most recent update for the app.\n",
    "\n",
    "Current Ver: The app's current version.\n",
    "\n",
    "Android Ver: The oldest version of Android OS supported by the app."
   ]
  },
  {
   "cell_type": "markdown",
   "metadata": {},
   "source": [
    "## Descripton of Data"
   ]
  },
  {
   "cell_type": "code",
   "execution_count": 10,
   "metadata": {},
   "outputs": [
    {
     "name": "stdout",
     "output_type": "stream",
     "text": [
      "<class 'pandas.core.frame.DataFrame'>\n",
      "RangeIndex: 10841 entries, 0 to 10840\n",
      "Data columns (total 13 columns):\n",
      "App               10841 non-null object\n",
      "Category          10841 non-null object\n",
      "Rating            10841 non-null object\n",
      "Reviews           10841 non-null object\n",
      "Size              10841 non-null object\n",
      "Installs          10841 non-null object\n",
      "Type              10841 non-null object\n",
      "Price             10841 non-null object\n",
      "Content Rating    10840 non-null object\n",
      "Genres            10841 non-null object\n",
      "Last Updated      10841 non-null object\n",
      "Current Ver       10840 non-null object\n",
      "Android Ver       10840 non-null object\n",
      "dtypes: object(13)\n",
      "memory usage: 1.1+ MB\n"
     ]
    }
   ],
   "source": [
    "data.info()"
   ]
  },
  {
   "cell_type": "code",
   "execution_count": 11,
   "metadata": {},
   "outputs": [
    {
     "data": {
      "text/html": [
       "<div>\n",
       "<style scoped>\n",
       "    .dataframe tbody tr th:only-of-type {\n",
       "        vertical-align: middle;\n",
       "    }\n",
       "\n",
       "    .dataframe tbody tr th {\n",
       "        vertical-align: top;\n",
       "    }\n",
       "\n",
       "    .dataframe thead th {\n",
       "        text-align: right;\n",
       "    }\n",
       "</style>\n",
       "<table border=\"1\" class=\"dataframe\">\n",
       "  <thead>\n",
       "    <tr style=\"text-align: right;\">\n",
       "      <th></th>\n",
       "      <th>App</th>\n",
       "      <th>Category</th>\n",
       "      <th>Rating</th>\n",
       "      <th>Reviews</th>\n",
       "      <th>Size</th>\n",
       "      <th>Installs</th>\n",
       "      <th>Type</th>\n",
       "      <th>Price</th>\n",
       "      <th>Content Rating</th>\n",
       "      <th>Genres</th>\n",
       "      <th>Last Updated</th>\n",
       "      <th>Current Ver</th>\n",
       "      <th>Android Ver</th>\n",
       "    </tr>\n",
       "  </thead>\n",
       "  <tbody>\n",
       "    <tr>\n",
       "      <td>count</td>\n",
       "      <td>10841</td>\n",
       "      <td>10841</td>\n",
       "      <td>10841</td>\n",
       "      <td>10841</td>\n",
       "      <td>10841</td>\n",
       "      <td>10841</td>\n",
       "      <td>10841</td>\n",
       "      <td>10841</td>\n",
       "      <td>10840</td>\n",
       "      <td>10841</td>\n",
       "      <td>10841</td>\n",
       "      <td>10840</td>\n",
       "      <td>10840</td>\n",
       "    </tr>\n",
       "    <tr>\n",
       "      <td>unique</td>\n",
       "      <td>9660</td>\n",
       "      <td>36</td>\n",
       "      <td>43</td>\n",
       "      <td>6002</td>\n",
       "      <td>464</td>\n",
       "      <td>24</td>\n",
       "      <td>6</td>\n",
       "      <td>95</td>\n",
       "      <td>8</td>\n",
       "      <td>121</td>\n",
       "      <td>1379</td>\n",
       "      <td>2835</td>\n",
       "      <td>36</td>\n",
       "    </tr>\n",
       "    <tr>\n",
       "      <td>top</td>\n",
       "      <td>ROBLOX</td>\n",
       "      <td>FAMILY</td>\n",
       "      <td>NaN</td>\n",
       "      <td>0</td>\n",
       "      <td>Varies with device</td>\n",
       "      <td>1,000,000+</td>\n",
       "      <td>Free</td>\n",
       "      <td>0</td>\n",
       "      <td>Everyone</td>\n",
       "      <td>Tools</td>\n",
       "      <td>August 3, 2018</td>\n",
       "      <td>Varies with device</td>\n",
       "      <td>4.1 and up</td>\n",
       "    </tr>\n",
       "    <tr>\n",
       "      <td>freq</td>\n",
       "      <td>9</td>\n",
       "      <td>1972</td>\n",
       "      <td>1474</td>\n",
       "      <td>596</td>\n",
       "      <td>1694</td>\n",
       "      <td>1578</td>\n",
       "      <td>10037</td>\n",
       "      <td>10038</td>\n",
       "      <td>8713</td>\n",
       "      <td>842</td>\n",
       "      <td>326</td>\n",
       "      <td>1458</td>\n",
       "      <td>2450</td>\n",
       "    </tr>\n",
       "  </tbody>\n",
       "</table>\n",
       "</div>"
      ],
      "text/plain": [
       "           App Category Rating Reviews                Size    Installs   Type  \\\n",
       "count    10841    10841  10841   10841               10841       10841  10841   \n",
       "unique    9660       36     43    6002                 464          24      6   \n",
       "top     ROBLOX   FAMILY    NaN       0  Varies with device  1,000,000+   Free   \n",
       "freq         9     1972   1474     596                1694        1578  10037   \n",
       "\n",
       "        Price Content Rating Genres    Last Updated         Current Ver  \\\n",
       "count   10841          10840  10841           10841               10840   \n",
       "unique     95              8    121            1379                2835   \n",
       "top         0       Everyone  Tools  August 3, 2018  Varies with device   \n",
       "freq    10038           8713    842             326                1458   \n",
       "\n",
       "       Android Ver  \n",
       "count        10840  \n",
       "unique          36  \n",
       "top     4.1 and up  \n",
       "freq          2450  "
      ]
     },
     "execution_count": 11,
     "metadata": {},
     "output_type": "execute_result"
    }
   ],
   "source": [
    "data.describe()\n"
   ]
  },
  {
   "cell_type": "code",
   "execution_count": 12,
   "metadata": {},
   "outputs": [
    {
     "data": {
      "text/plain": [
       "App               0\n",
       "Category          0\n",
       "Rating            0\n",
       "Reviews           0\n",
       "Size              0\n",
       "Installs          0\n",
       "Type              0\n",
       "Price             0\n",
       "Content Rating    1\n",
       "Genres            0\n",
       "Last Updated      0\n",
       "Current Ver       1\n",
       "Android Ver       1\n",
       "dtype: int64"
      ]
     },
     "execution_count": 12,
     "metadata": {},
     "output_type": "execute_result"
    }
   ],
   "source": [
    "data.isnull().sum()"
   ]
  },
  {
   "cell_type": "markdown",
   "metadata": {},
   "source": [
    "## Cleaning the Data Frame"
   ]
  },
  {
   "cell_type": "code",
   "execution_count": 13,
   "metadata": {},
   "outputs": [
    {
     "data": {
      "text/plain": [
       "array(['159', '967', '87510', ..., '603', '1195', '398307'], dtype=object)"
      ]
     },
     "execution_count": 13,
     "metadata": {},
     "output_type": "execute_result"
    }
   ],
   "source": [
    "data['Reviews'].unique()\n"
   ]
  },
  {
   "cell_type": "code",
   "execution_count": 14,
   "metadata": {},
   "outputs": [],
   "source": [
    "data['Reviews']=pd.to_numeric(data['Reviews'],errors='coerce')"
   ]
  },
  {
   "cell_type": "markdown",
   "metadata": {},
   "source": [
    "errors=’coerce’. It will replace all non-numeric values with NaN."
   ]
  },
  {
   "cell_type": "markdown",
   "metadata": {},
   "source": [
    "## Fix the Size"
   ]
  },
  {
   "cell_type": "code",
   "execution_count": 15,
   "metadata": {},
   "outputs": [
    {
     "data": {
      "text/plain": [
       "array(['19M', '14M', '8.7M', '25M', '2.8M', '5.6M', '29M', '33M', '3.1M',\n",
       "       '28M', '12M', '20M', '21M', '37M', '2.7M', '5.5M', '17M', '39M',\n",
       "       '31M', '4.2M', '7.0M', '23M', '6.0M', '6.1M', '4.6M', '9.2M',\n",
       "       '5.2M', '11M', '24M', 'Varies with device', '9.4M', '15M', '10M',\n",
       "       '1.2M', '26M', '8.0M', '7.9M', '56M', '57M', '35M', '54M', '201k',\n",
       "       '3.6M', '5.7M', '8.6M', '2.4M', '27M', '2.5M', '16M', '3.4M',\n",
       "       '8.9M', '3.9M', '2.9M', '38M', '32M', '5.4M', '18M', '1.1M',\n",
       "       '2.2M', '4.5M', '9.8M', '52M', '9.0M', '6.7M', '30M', '2.6M',\n",
       "       '7.1M', '3.7M', '22M', '7.4M', '6.4M', '3.2M', '8.2M', '9.9M',\n",
       "       '4.9M', '9.5M', '5.0M', '5.9M', '13M', '73M', '6.8M', '3.5M',\n",
       "       '4.0M', '2.3M', '7.2M', '2.1M', '42M', '7.3M', '9.1M', '55M',\n",
       "       '23k', '6.5M', '1.5M', '7.5M', '51M', '41M', '48M', '8.5M', '46M',\n",
       "       '8.3M', '4.3M', '4.7M', '3.3M', '40M', '7.8M', '8.8M', '6.6M',\n",
       "       '5.1M', '61M', '66M', '79k', '8.4M', '118k', '44M', '695k', '1.6M',\n",
       "       '6.2M', '18k', '53M', '1.4M', '3.0M', '5.8M', '3.8M', '9.6M',\n",
       "       '45M', '63M', '49M', '77M', '4.4M', '4.8M', '70M', '6.9M', '9.3M',\n",
       "       '10.0M', '8.1M', '36M', '84M', '97M', '2.0M', '1.9M', '1.8M',\n",
       "       '5.3M', '47M', '556k', '526k', '76M', '7.6M', '59M', '9.7M', '78M',\n",
       "       '72M', '43M', '7.7M', '6.3M', '334k', '34M', '93M', '65M', '79M',\n",
       "       '100M', '58M', '50M', '68M', '64M', '67M', '60M', '94M', '232k',\n",
       "       '99M', '624k', '95M', '8.5k', '41k', '292k', '11k', '80M', '1.7M',\n",
       "       '74M', '62M', '69M', '75M', '98M', '85M', '82M', '96M', '87M',\n",
       "       '71M', '86M', '91M', '81M', '92M', '83M', '88M', '704k', '862k',\n",
       "       '899k', '378k', '266k', '375k', '1.3M', '975k', '980k', '4.1M',\n",
       "       '89M', '696k', '544k', '525k', '920k', '779k', '853k', '720k',\n",
       "       '713k', 'MAPS_AND_NAVIGATION', '772k', '318k', '58k', '241k',\n",
       "       '196k', '857k', '51k', '953k', '865k', '251k', '930k', '540k',\n",
       "       '313k', '746k', '203k', '26k', '314k', '239k', '371k', '220k',\n",
       "       '730k', '756k', '91k', '293k', '17k', '74k', '14k', '317k', '78k',\n",
       "       '924k', '902k', '818k', '81k', '939k', '169k', '45k', '475k',\n",
       "       '965k', '90M', '545k', '61k', '283k', '655k', '714k', '93k',\n",
       "       '872k', '121k', '322k', '1.0M', '976k', '172k', '238k', '549k',\n",
       "       '206k', '954k', '444k', '717k', '210k', '609k', '308k', '705k',\n",
       "       'HEALTH_AND_FITNESS', '306k', '904k', '473k', '175k', '350k',\n",
       "       '383k', '454k', '421k', '70k', '812k', '442k', '842k', '417k',\n",
       "       '412k', '459k', '478k', '335k', '782k', '721k', '430k', '429k',\n",
       "       '192k', '200k', '460k', '728k', '496k', '816k', '414k', '506k',\n",
       "       '887k', '613k', '243k', '569k', '778k', '683k', '592k', '319k',\n",
       "       '186k', '840k', '647k', '191k', '373k', '437k', '598k', '716k',\n",
       "       '585k', '982k', '222k', '219k', '55k', '948k', '323k', '691k',\n",
       "       '511k', '951k', '963k', '25k', '554k', '351k', '27k', '82k',\n",
       "       '208k', '913k', '514k', '551k', '29k', '103k', '898k', '743k',\n",
       "       '116k', '153k', '209k', '353k', '499k', '173k', '597k', '809k',\n",
       "       '122k', '411k', '400k', '801k', '787k', '237k', '50k', '643k',\n",
       "       '986k', '97k', '516k', '837k', '780k', '961k', '269k', '20k',\n",
       "       '498k', '600k', '749k', '642k', '881k', '72k', '656k', '601k',\n",
       "       '221k', '228k', '108k', '940k', '176k', '33k', '663k', '34k',\n",
       "       '942k', '259k', '164k', '458k', '245k', '629k', '28k', '288k',\n",
       "       '775k', '785k', '636k', '916k', '994k', '309k', '485k', '914k',\n",
       "       '903k', '608k', '500k', '54k', '562k', '847k', '957k', '688k',\n",
       "       '811k', '270k', '48k', '329k', '523k', '921k', '874k', '981k',\n",
       "       '784k', '280k', '24k', '518k', '754k', '892k', '154k', '860k',\n",
       "       '364k', '387k', '626k', '161k', '879k', '39k', '970k', '170k',\n",
       "       '141k', '160k', '144k', '143k', '190k', '376k', '193k', '246k',\n",
       "       '73k', '658k', '992k', '253k', '420k', '404k', '1,000+', '470k',\n",
       "       '226k', '240k', '89k', '234k', '257k', '861k', '467k', '157k',\n",
       "       '44k', '676k', '67k', '552k', '885k', '1020k', '582k', '619k'],\n",
       "      dtype=object)"
      ]
     },
     "execution_count": 15,
     "metadata": {},
     "output_type": "execute_result"
    }
   ],
   "source": [
    "data['Size'].unique()"
   ]
  },
  {
   "cell_type": "code",
   "execution_count": 16,
   "metadata": {},
   "outputs": [],
   "source": [
    "def fix_size(s):\n",
    "    try:\n",
    "        if s.endswith('M'):\n",
    "            return float(s[:-1])\n",
    "        \n",
    "        elif s.endswith('k'):\n",
    "            return (float(s[:-1])/1024)\n",
    "        \n",
    "        elif s == '1,000+' :\n",
    "            return 1.0\n",
    "        \n",
    "        else:\n",
    "            return np.nan\n",
    "        \n",
    "    except:\n",
    "        \n",
    "        return np.nan\n",
    "            "
   ]
  },
  {
   "cell_type": "code",
   "execution_count": 17,
   "metadata": {},
   "outputs": [
    {
     "data": {
      "text/plain": [
       "98.0"
      ]
     },
     "execution_count": 17,
     "metadata": {},
     "output_type": "execute_result"
    }
   ],
   "source": [
    "fix_size('98M')"
   ]
  },
  {
   "cell_type": "code",
   "execution_count": 18,
   "metadata": {},
   "outputs": [
    {
     "data": {
      "text/plain": [
       "0.09765625"
      ]
     },
     "execution_count": 18,
     "metadata": {},
     "output_type": "execute_result"
    }
   ],
   "source": [
    "fix_size('100k')"
   ]
  },
  {
   "cell_type": "code",
   "execution_count": 19,
   "metadata": {},
   "outputs": [
    {
     "data": {
      "text/plain": [
       "nan"
      ]
     },
     "execution_count": 19,
     "metadata": {},
     "output_type": "execute_result"
    }
   ],
   "source": [
    "fix_size('demo')"
   ]
  },
  {
   "cell_type": "code",
   "execution_count": 20,
   "metadata": {},
   "outputs": [
    {
     "data": {
      "text/plain": [
       "0.99609375"
      ]
     },
     "execution_count": 20,
     "metadata": {},
     "output_type": "execute_result"
    }
   ],
   "source": [
    "fix_size('1020k')"
   ]
  },
  {
   "cell_type": "code",
   "execution_count": 21,
   "metadata": {},
   "outputs": [],
   "source": [
    "data['Size']=data['Size'].apply(fix_size)"
   ]
  },
  {
   "cell_type": "code",
   "execution_count": 22,
   "metadata": {},
   "outputs": [
    {
     "data": {
      "text/plain": [
       "array([1.90000000e+01, 1.40000000e+01, 8.70000000e+00, 2.50000000e+01,\n",
       "       2.80000000e+00, 5.60000000e+00, 2.90000000e+01, 3.30000000e+01,\n",
       "       3.10000000e+00, 2.80000000e+01, 1.20000000e+01, 2.00000000e+01,\n",
       "       2.10000000e+01, 3.70000000e+01, 2.70000000e+00, 5.50000000e+00,\n",
       "       1.70000000e+01, 3.90000000e+01, 3.10000000e+01, 4.20000000e+00,\n",
       "       7.00000000e+00, 2.30000000e+01, 6.00000000e+00, 6.10000000e+00,\n",
       "       4.60000000e+00, 9.20000000e+00, 5.20000000e+00, 1.10000000e+01,\n",
       "       2.40000000e+01,            nan, 9.40000000e+00, 1.50000000e+01,\n",
       "       1.00000000e+01, 1.20000000e+00, 2.60000000e+01, 8.00000000e+00,\n",
       "       7.90000000e+00, 5.60000000e+01, 5.70000000e+01, 3.50000000e+01,\n",
       "       5.40000000e+01, 1.96289062e-01, 3.60000000e+00, 5.70000000e+00,\n",
       "       8.60000000e+00, 2.40000000e+00, 2.70000000e+01, 2.50000000e+00,\n",
       "       1.60000000e+01, 3.40000000e+00, 8.90000000e+00, 3.90000000e+00,\n",
       "       2.90000000e+00, 3.80000000e+01, 3.20000000e+01, 5.40000000e+00,\n",
       "       1.80000000e+01, 1.10000000e+00, 2.20000000e+00, 4.50000000e+00,\n",
       "       9.80000000e+00, 5.20000000e+01, 9.00000000e+00, 6.70000000e+00,\n",
       "       3.00000000e+01, 2.60000000e+00, 7.10000000e+00, 3.70000000e+00,\n",
       "       2.20000000e+01, 7.40000000e+00, 6.40000000e+00, 3.20000000e+00,\n",
       "       8.20000000e+00, 9.90000000e+00, 4.90000000e+00, 9.50000000e+00,\n",
       "       5.00000000e+00, 5.90000000e+00, 1.30000000e+01, 7.30000000e+01,\n",
       "       6.80000000e+00, 3.50000000e+00, 4.00000000e+00, 2.30000000e+00,\n",
       "       7.20000000e+00, 2.10000000e+00, 4.20000000e+01, 7.30000000e+00,\n",
       "       9.10000000e+00, 5.50000000e+01, 2.24609375e-02, 6.50000000e+00,\n",
       "       1.50000000e+00, 7.50000000e+00, 5.10000000e+01, 4.10000000e+01,\n",
       "       4.80000000e+01, 8.50000000e+00, 4.60000000e+01, 8.30000000e+00,\n",
       "       4.30000000e+00, 4.70000000e+00, 3.30000000e+00, 4.00000000e+01,\n",
       "       7.80000000e+00, 8.80000000e+00, 6.60000000e+00, 5.10000000e+00,\n",
       "       6.10000000e+01, 6.60000000e+01, 7.71484375e-02, 8.40000000e+00,\n",
       "       1.15234375e-01, 4.40000000e+01, 6.78710938e-01, 1.60000000e+00,\n",
       "       6.20000000e+00, 1.75781250e-02, 5.30000000e+01, 1.40000000e+00,\n",
       "       3.00000000e+00, 5.80000000e+00, 3.80000000e+00, 9.60000000e+00,\n",
       "       4.50000000e+01, 6.30000000e+01, 4.90000000e+01, 7.70000000e+01,\n",
       "       4.40000000e+00, 4.80000000e+00, 7.00000000e+01, 6.90000000e+00,\n",
       "       9.30000000e+00, 8.10000000e+00, 3.60000000e+01, 8.40000000e+01,\n",
       "       9.70000000e+01, 2.00000000e+00, 1.90000000e+00, 1.80000000e+00,\n",
       "       5.30000000e+00, 4.70000000e+01, 5.42968750e-01, 5.13671875e-01,\n",
       "       7.60000000e+01, 7.60000000e+00, 5.90000000e+01, 9.70000000e+00,\n",
       "       7.80000000e+01, 7.20000000e+01, 4.30000000e+01, 7.70000000e+00,\n",
       "       6.30000000e+00, 3.26171875e-01, 3.40000000e+01, 9.30000000e+01,\n",
       "       6.50000000e+01, 7.90000000e+01, 1.00000000e+02, 5.80000000e+01,\n",
       "       5.00000000e+01, 6.80000000e+01, 6.40000000e+01, 6.70000000e+01,\n",
       "       6.00000000e+01, 9.40000000e+01, 2.26562500e-01, 9.90000000e+01,\n",
       "       6.09375000e-01, 9.50000000e+01, 8.30078125e-03, 4.00390625e-02,\n",
       "       2.85156250e-01, 1.07421875e-02, 8.00000000e+01, 1.70000000e+00,\n",
       "       7.40000000e+01, 6.20000000e+01, 6.90000000e+01, 7.50000000e+01,\n",
       "       9.80000000e+01, 8.50000000e+01, 8.20000000e+01, 9.60000000e+01,\n",
       "       8.70000000e+01, 7.10000000e+01, 8.60000000e+01, 9.10000000e+01,\n",
       "       8.10000000e+01, 9.20000000e+01, 8.30000000e+01, 8.80000000e+01,\n",
       "       6.87500000e-01, 8.41796875e-01, 8.77929688e-01, 3.69140625e-01,\n",
       "       2.59765625e-01, 3.66210938e-01, 1.30000000e+00, 9.52148438e-01,\n",
       "       9.57031250e-01, 4.10000000e+00, 8.90000000e+01, 6.79687500e-01,\n",
       "       5.31250000e-01, 5.12695312e-01, 8.98437500e-01, 7.60742188e-01,\n",
       "       8.33007812e-01, 7.03125000e-01, 6.96289062e-01, 7.53906250e-01,\n",
       "       3.10546875e-01, 5.66406250e-02, 2.35351562e-01, 1.91406250e-01,\n",
       "       8.36914062e-01, 4.98046875e-02, 9.30664062e-01, 8.44726562e-01,\n",
       "       2.45117188e-01, 9.08203125e-01, 5.27343750e-01, 3.05664062e-01,\n",
       "       7.28515625e-01, 1.98242188e-01, 2.53906250e-02, 3.06640625e-01,\n",
       "       2.33398438e-01, 3.62304688e-01, 2.14843750e-01, 7.12890625e-01,\n",
       "       7.38281250e-01, 8.88671875e-02, 2.86132812e-01, 1.66015625e-02,\n",
       "       7.22656250e-02, 1.36718750e-02, 3.09570312e-01, 7.61718750e-02,\n",
       "       9.02343750e-01, 8.80859375e-01, 7.98828125e-01, 7.91015625e-02,\n",
       "       9.16992188e-01, 1.65039062e-01, 4.39453125e-02, 4.63867188e-01,\n",
       "       9.42382812e-01, 9.00000000e+01, 5.32226562e-01, 5.95703125e-02,\n",
       "       2.76367188e-01, 6.39648438e-01, 6.97265625e-01, 9.08203125e-02,\n",
       "       8.51562500e-01, 1.18164062e-01, 3.14453125e-01, 1.00000000e+00,\n",
       "       9.53125000e-01, 1.67968750e-01, 2.32421875e-01, 5.36132812e-01,\n",
       "       2.01171875e-01, 9.31640625e-01, 4.33593750e-01, 7.00195312e-01,\n",
       "       2.05078125e-01, 5.94726562e-01, 3.00781250e-01, 6.88476562e-01,\n",
       "       2.98828125e-01, 8.82812500e-01, 4.61914062e-01, 1.70898438e-01,\n",
       "       3.41796875e-01, 3.74023438e-01, 4.43359375e-01, 4.11132812e-01,\n",
       "       6.83593750e-02, 7.92968750e-01, 4.31640625e-01, 8.22265625e-01,\n",
       "       4.07226562e-01, 4.02343750e-01, 4.48242188e-01, 4.66796875e-01,\n",
       "       3.27148438e-01, 7.63671875e-01, 7.04101562e-01, 4.19921875e-01,\n",
       "       4.18945312e-01, 1.87500000e-01, 1.95312500e-01, 4.49218750e-01,\n",
       "       7.10937500e-01, 4.84375000e-01, 7.96875000e-01, 4.04296875e-01,\n",
       "       4.94140625e-01, 8.66210938e-01, 5.98632812e-01, 2.37304688e-01,\n",
       "       5.55664062e-01, 7.59765625e-01, 6.66992188e-01, 5.78125000e-01,\n",
       "       3.11523438e-01, 1.81640625e-01, 8.20312500e-01, 6.31835938e-01,\n",
       "       1.86523438e-01, 3.64257812e-01, 4.26757812e-01, 5.83984375e-01,\n",
       "       6.99218750e-01, 5.71289062e-01, 9.58984375e-01, 2.16796875e-01,\n",
       "       2.13867188e-01, 5.37109375e-02, 9.25781250e-01, 3.15429688e-01,\n",
       "       6.74804688e-01, 4.99023438e-01, 9.28710938e-01, 9.40429688e-01,\n",
       "       2.44140625e-02, 5.41015625e-01, 3.42773438e-01, 2.63671875e-02,\n",
       "       8.00781250e-02, 2.03125000e-01, 8.91601562e-01, 5.01953125e-01,\n",
       "       5.38085938e-01, 2.83203125e-02, 1.00585938e-01, 8.76953125e-01,\n",
       "       7.25585938e-01, 1.13281250e-01, 1.49414062e-01, 2.04101562e-01,\n",
       "       3.44726562e-01, 4.87304688e-01, 1.68945312e-01, 5.83007812e-01,\n",
       "       7.90039062e-01, 1.19140625e-01, 4.01367188e-01, 3.90625000e-01,\n",
       "       7.82226562e-01, 7.68554688e-01, 2.31445312e-01, 4.88281250e-02,\n",
       "       6.27929688e-01, 9.62890625e-01, 9.47265625e-02, 5.03906250e-01,\n",
       "       8.17382812e-01, 7.61718750e-01, 9.38476562e-01, 2.62695312e-01,\n",
       "       1.95312500e-02, 4.86328125e-01, 5.85937500e-01, 7.31445312e-01,\n",
       "       6.26953125e-01, 8.60351562e-01, 7.03125000e-02, 6.40625000e-01,\n",
       "       5.86914062e-01, 2.15820312e-01, 2.22656250e-01, 1.05468750e-01,\n",
       "       9.17968750e-01, 1.71875000e-01, 3.22265625e-02, 6.47460938e-01,\n",
       "       3.32031250e-02, 9.19921875e-01, 2.52929688e-01, 1.60156250e-01,\n",
       "       4.47265625e-01, 2.39257812e-01, 6.14257812e-01, 2.73437500e-02,\n",
       "       2.81250000e-01, 7.56835938e-01, 7.66601562e-01, 6.21093750e-01,\n",
       "       8.94531250e-01, 9.70703125e-01, 3.01757812e-01, 4.73632812e-01,\n",
       "       8.92578125e-01, 8.81835938e-01, 5.93750000e-01, 4.88281250e-01,\n",
       "       5.27343750e-02, 5.48828125e-01, 8.27148438e-01, 9.34570312e-01,\n",
       "       6.71875000e-01, 7.91992188e-01, 2.63671875e-01, 4.68750000e-02,\n",
       "       3.21289062e-01, 5.10742188e-01, 8.99414062e-01, 8.53515625e-01,\n",
       "       9.58007812e-01, 7.65625000e-01, 2.73437500e-01, 2.34375000e-02,\n",
       "       5.05859375e-01, 7.36328125e-01, 8.71093750e-01, 1.50390625e-01,\n",
       "       8.39843750e-01, 3.55468750e-01, 3.77929688e-01, 6.11328125e-01,\n",
       "       1.57226562e-01, 8.58398438e-01, 3.80859375e-02, 9.47265625e-01,\n",
       "       1.66015625e-01, 1.37695312e-01, 1.56250000e-01, 1.40625000e-01,\n",
       "       1.39648438e-01, 1.85546875e-01, 3.67187500e-01, 1.88476562e-01,\n",
       "       2.40234375e-01, 7.12890625e-02, 6.42578125e-01, 9.68750000e-01,\n",
       "       2.47070312e-01, 4.10156250e-01, 3.94531250e-01, 4.58984375e-01,\n",
       "       2.20703125e-01, 2.34375000e-01, 8.69140625e-02, 2.28515625e-01,\n",
       "       2.50976562e-01, 8.40820312e-01, 4.56054688e-01, 1.53320312e-01,\n",
       "       4.29687500e-02, 6.60156250e-01, 6.54296875e-02, 5.39062500e-01,\n",
       "       8.64257812e-01, 9.96093750e-01, 5.68359375e-01, 6.04492188e-01])"
      ]
     },
     "execution_count": 22,
     "metadata": {},
     "output_type": "execute_result"
    }
   ],
   "source": [
    "data['Size'].unique()"
   ]
  },
  {
   "cell_type": "code",
   "execution_count": 23,
   "metadata": {},
   "outputs": [
    {
     "data": {
      "text/html": [
       "<div>\n",
       "<style scoped>\n",
       "    .dataframe tbody tr th:only-of-type {\n",
       "        vertical-align: middle;\n",
       "    }\n",
       "\n",
       "    .dataframe tbody tr th {\n",
       "        vertical-align: top;\n",
       "    }\n",
       "\n",
       "    .dataframe thead th {\n",
       "        text-align: right;\n",
       "    }\n",
       "</style>\n",
       "<table border=\"1\" class=\"dataframe\">\n",
       "  <thead>\n",
       "    <tr style=\"text-align: right;\">\n",
       "      <th></th>\n",
       "      <th>App</th>\n",
       "      <th>Category</th>\n",
       "      <th>Rating</th>\n",
       "      <th>Reviews</th>\n",
       "      <th>Size</th>\n",
       "      <th>Installs</th>\n",
       "      <th>Type</th>\n",
       "      <th>Price</th>\n",
       "      <th>Content Rating</th>\n",
       "      <th>Genres</th>\n",
       "      <th>Last Updated</th>\n",
       "      <th>Current Ver</th>\n",
       "      <th>Android Ver</th>\n",
       "    </tr>\n",
       "  </thead>\n",
       "  <tbody>\n",
       "    <tr>\n",
       "      <td>0</td>\n",
       "      <td>Photo Editor &amp; Candy Camera &amp; Grid &amp; ScrapBook</td>\n",
       "      <td>ART_AND_DESIGN</td>\n",
       "      <td>4.1</td>\n",
       "      <td>159.0</td>\n",
       "      <td>19.0</td>\n",
       "      <td>10,000+</td>\n",
       "      <td>Free</td>\n",
       "      <td>0</td>\n",
       "      <td>Everyone</td>\n",
       "      <td>Art &amp; Design</td>\n",
       "      <td>January 7, 2018</td>\n",
       "      <td>1.0.0</td>\n",
       "      <td>4.0.3 and up</td>\n",
       "    </tr>\n",
       "    <tr>\n",
       "      <td>1</td>\n",
       "      <td>Coloring book moana</td>\n",
       "      <td>ART_AND_DESIGN</td>\n",
       "      <td>3.9</td>\n",
       "      <td>967.0</td>\n",
       "      <td>14.0</td>\n",
       "      <td>500,000+</td>\n",
       "      <td>Free</td>\n",
       "      <td>0</td>\n",
       "      <td>Everyone</td>\n",
       "      <td>Art &amp; Design;Pretend Play</td>\n",
       "      <td>January 15, 2018</td>\n",
       "      <td>2.0.0</td>\n",
       "      <td>4.0.3 and up</td>\n",
       "    </tr>\n",
       "    <tr>\n",
       "      <td>2</td>\n",
       "      <td>U Launcher Lite – FREE Live Cool Themes, Hide ...</td>\n",
       "      <td>ART_AND_DESIGN</td>\n",
       "      <td>4.7</td>\n",
       "      <td>87510.0</td>\n",
       "      <td>8.7</td>\n",
       "      <td>5,000,000+</td>\n",
       "      <td>Free</td>\n",
       "      <td>0</td>\n",
       "      <td>Everyone</td>\n",
       "      <td>Art &amp; Design</td>\n",
       "      <td>August 1, 2018</td>\n",
       "      <td>1.2.4</td>\n",
       "      <td>4.0.3 and up</td>\n",
       "    </tr>\n",
       "    <tr>\n",
       "      <td>3</td>\n",
       "      <td>Sketch - Draw &amp; Paint</td>\n",
       "      <td>ART_AND_DESIGN</td>\n",
       "      <td>4.5</td>\n",
       "      <td>215644.0</td>\n",
       "      <td>25.0</td>\n",
       "      <td>50,000,000+</td>\n",
       "      <td>Free</td>\n",
       "      <td>0</td>\n",
       "      <td>Teen</td>\n",
       "      <td>Art &amp; Design</td>\n",
       "      <td>June 8, 2018</td>\n",
       "      <td>Varies with device</td>\n",
       "      <td>4.2 and up</td>\n",
       "    </tr>\n",
       "    <tr>\n",
       "      <td>4</td>\n",
       "      <td>Pixel Draw - Number Art Coloring Book</td>\n",
       "      <td>ART_AND_DESIGN</td>\n",
       "      <td>4.3</td>\n",
       "      <td>967.0</td>\n",
       "      <td>2.8</td>\n",
       "      <td>100,000+</td>\n",
       "      <td>Free</td>\n",
       "      <td>0</td>\n",
       "      <td>Everyone</td>\n",
       "      <td>Art &amp; Design;Creativity</td>\n",
       "      <td>June 20, 2018</td>\n",
       "      <td>1.1</td>\n",
       "      <td>4.4 and up</td>\n",
       "    </tr>\n",
       "  </tbody>\n",
       "</table>\n",
       "</div>"
      ],
      "text/plain": [
       "                                                 App        Category Rating  \\\n",
       "0     Photo Editor & Candy Camera & Grid & ScrapBook  ART_AND_DESIGN    4.1   \n",
       "1                                Coloring book moana  ART_AND_DESIGN    3.9   \n",
       "2  U Launcher Lite – FREE Live Cool Themes, Hide ...  ART_AND_DESIGN    4.7   \n",
       "3                              Sketch - Draw & Paint  ART_AND_DESIGN    4.5   \n",
       "4              Pixel Draw - Number Art Coloring Book  ART_AND_DESIGN    4.3   \n",
       "\n",
       "    Reviews  Size     Installs  Type Price Content Rating  \\\n",
       "0     159.0  19.0      10,000+  Free     0       Everyone   \n",
       "1     967.0  14.0     500,000+  Free     0       Everyone   \n",
       "2   87510.0   8.7   5,000,000+  Free     0       Everyone   \n",
       "3  215644.0  25.0  50,000,000+  Free     0           Teen   \n",
       "4     967.0   2.8     100,000+  Free     0       Everyone   \n",
       "\n",
       "                      Genres      Last Updated         Current Ver  \\\n",
       "0               Art & Design   January 7, 2018               1.0.0   \n",
       "1  Art & Design;Pretend Play  January 15, 2018               2.0.0   \n",
       "2               Art & Design    August 1, 2018               1.2.4   \n",
       "3               Art & Design      June 8, 2018  Varies with device   \n",
       "4    Art & Design;Creativity     June 20, 2018                 1.1   \n",
       "\n",
       "    Android Ver  \n",
       "0  4.0.3 and up  \n",
       "1  4.0.3 and up  \n",
       "2  4.0.3 and up  \n",
       "3    4.2 and up  \n",
       "4    4.4 and up  "
      ]
     },
     "execution_count": 23,
     "metadata": {},
     "output_type": "execute_result"
    }
   ],
   "source": [
    "data.head()"
   ]
  },
  {
   "cell_type": "markdown",
   "metadata": {},
   "source": [
    "## Fix the Price"
   ]
  },
  {
   "cell_type": "code",
   "execution_count": 24,
   "metadata": {},
   "outputs": [
    {
     "data": {
      "text/plain": [
       "array(['0', '$4.99', '$3.99', '$6.99', '$1.49', '$2.99', '$7.99', '$5.99',\n",
       "       '$3.49', '$1.99', '$9.99', '$7.49', '$0.99', '$9.00', '$5.49',\n",
       "       '$10.00', '$24.99', '$11.99', '$79.99', '$16.99', '$14.99',\n",
       "       '$1.00', '$29.99', '$12.99', '$2.49', '$10.99', '$1.50', '$19.99',\n",
       "       '$15.99', '$33.99', '$74.99', '$39.99', '$3.95', '$4.49',\n",
       "       'Varies with device', '$1.70', '$8.99', '$2.00', '$3.88', '$25.99',\n",
       "       '$399.99', '$17.99', '$400.00', '$3.02', '$1.76', '$4.84', '$4.77',\n",
       "       '$1.61', '$2.50', '$1.59', '$6.49', '$1.29', '$5.00', '$13.99',\n",
       "       '$299.99', '$379.99', '$37.99', '$18.99', '$389.99', '$19.90',\n",
       "       '$8.49', '$1.75', '5.0M', '$14.00', '$4.85', '$46.99', '$109.99',\n",
       "       '$154.99', '$3.08', '$2.59', '$4.80', '$1.96', '$19.40', '$3.90',\n",
       "       '$4.59', '$15.46', '$3.04', '$4.29', '$2.60', '$3.28', '$4.60',\n",
       "       '$28.99', '$2.95', '$2.90', '$1.97', '$200.00', '$89.99', '$2.56',\n",
       "       '$30.99', '$3.61', '$394.99', '$1.26', 'Everyone', '$1.20',\n",
       "       '$1.04'], dtype=object)"
      ]
     },
     "execution_count": 24,
     "metadata": {},
     "output_type": "execute_result"
    }
   ],
   "source": [
    "data['Price'].unique()"
   ]
  },
  {
   "cell_type": "code",
   "execution_count": 25,
   "metadata": {},
   "outputs": [],
   "source": [
    "def fix_price(p):\n",
    "    try :\n",
    "        \n",
    "        if p.startswith('$'):\n",
    "            return float(p[1:])\n",
    "        \n",
    "        else:\n",
    "            return 0.0\n",
    "        \n",
    "    except :\n",
    "        \n",
    "        return np.nan"
   ]
  },
  {
   "cell_type": "code",
   "execution_count": 26,
   "metadata": {},
   "outputs": [
    {
     "data": {
      "text/plain": [
       "90.0"
      ]
     },
     "execution_count": 26,
     "metadata": {},
     "output_type": "execute_result"
    }
   ],
   "source": [
    "fix_price('$90')"
   ]
  },
  {
   "cell_type": "code",
   "execution_count": 27,
   "metadata": {},
   "outputs": [
    {
     "data": {
      "text/plain": [
       "0.0"
      ]
     },
     "execution_count": 27,
     "metadata": {},
     "output_type": "execute_result"
    }
   ],
   "source": [
    "fix_price(' ')"
   ]
  },
  {
   "cell_type": "code",
   "execution_count": 28,
   "metadata": {},
   "outputs": [
    {
     "data": {
      "text/plain": [
       "0.0"
      ]
     },
     "execution_count": 28,
     "metadata": {},
     "output_type": "execute_result"
    }
   ],
   "source": [
    "fix_price('free')"
   ]
  },
  {
   "cell_type": "code",
   "execution_count": 29,
   "metadata": {},
   "outputs": [],
   "source": [
    "data['Price']=data['Price'].apply(fix_price)"
   ]
  },
  {
   "cell_type": "code",
   "execution_count": 30,
   "metadata": {},
   "outputs": [
    {
     "data": {
      "text/plain": [
       "array([  0.  ,   4.99,   3.99,   6.99,   1.49,   2.99,   7.99,   5.99,\n",
       "         3.49,   1.99,   9.99,   7.49,   0.99,   9.  ,   5.49,  10.  ,\n",
       "        24.99,  11.99,  79.99,  16.99,  14.99,   1.  ,  29.99,  12.99,\n",
       "         2.49,  10.99,   1.5 ,  19.99,  15.99,  33.99,  74.99,  39.99,\n",
       "         3.95,   4.49,   1.7 ,   8.99,   2.  ,   3.88,  25.99, 399.99,\n",
       "        17.99, 400.  ,   3.02,   1.76,   4.84,   4.77,   1.61,   2.5 ,\n",
       "         1.59,   6.49,   1.29,   5.  ,  13.99, 299.99, 379.99,  37.99,\n",
       "        18.99, 389.99,  19.9 ,   8.49,   1.75,  14.  ,   4.85,  46.99,\n",
       "       109.99, 154.99,   3.08,   2.59,   4.8 ,   1.96,  19.4 ,   3.9 ,\n",
       "         4.59,  15.46,   3.04,   4.29,   2.6 ,   3.28,   4.6 ,  28.99,\n",
       "         2.95,   2.9 ,   1.97, 200.  ,  89.99,   2.56,  30.99,   3.61,\n",
       "       394.99,   1.26,   1.2 ,   1.04])"
      ]
     },
     "execution_count": 30,
     "metadata": {},
     "output_type": "execute_result"
    }
   ],
   "source": [
    "data['Price'].unique()"
   ]
  },
  {
   "cell_type": "code",
   "execution_count": 31,
   "metadata": {},
   "outputs": [
    {
     "data": {
      "text/html": [
       "<div>\n",
       "<style scoped>\n",
       "    .dataframe tbody tr th:only-of-type {\n",
       "        vertical-align: middle;\n",
       "    }\n",
       "\n",
       "    .dataframe tbody tr th {\n",
       "        vertical-align: top;\n",
       "    }\n",
       "\n",
       "    .dataframe thead th {\n",
       "        text-align: right;\n",
       "    }\n",
       "</style>\n",
       "<table border=\"1\" class=\"dataframe\">\n",
       "  <thead>\n",
       "    <tr style=\"text-align: right;\">\n",
       "      <th></th>\n",
       "      <th>App</th>\n",
       "      <th>Category</th>\n",
       "      <th>Rating</th>\n",
       "      <th>Reviews</th>\n",
       "      <th>Size</th>\n",
       "      <th>Installs</th>\n",
       "      <th>Type</th>\n",
       "      <th>Price</th>\n",
       "      <th>Content Rating</th>\n",
       "      <th>Genres</th>\n",
       "      <th>Last Updated</th>\n",
       "      <th>Current Ver</th>\n",
       "      <th>Android Ver</th>\n",
       "    </tr>\n",
       "  </thead>\n",
       "  <tbody>\n",
       "    <tr>\n",
       "      <td>0</td>\n",
       "      <td>Photo Editor &amp; Candy Camera &amp; Grid &amp; ScrapBook</td>\n",
       "      <td>ART_AND_DESIGN</td>\n",
       "      <td>4.1</td>\n",
       "      <td>159.0</td>\n",
       "      <td>19.0</td>\n",
       "      <td>10,000+</td>\n",
       "      <td>Free</td>\n",
       "      <td>0.0</td>\n",
       "      <td>Everyone</td>\n",
       "      <td>Art &amp; Design</td>\n",
       "      <td>January 7, 2018</td>\n",
       "      <td>1.0.0</td>\n",
       "      <td>4.0.3 and up</td>\n",
       "    </tr>\n",
       "    <tr>\n",
       "      <td>1</td>\n",
       "      <td>Coloring book moana</td>\n",
       "      <td>ART_AND_DESIGN</td>\n",
       "      <td>3.9</td>\n",
       "      <td>967.0</td>\n",
       "      <td>14.0</td>\n",
       "      <td>500,000+</td>\n",
       "      <td>Free</td>\n",
       "      <td>0.0</td>\n",
       "      <td>Everyone</td>\n",
       "      <td>Art &amp; Design;Pretend Play</td>\n",
       "      <td>January 15, 2018</td>\n",
       "      <td>2.0.0</td>\n",
       "      <td>4.0.3 and up</td>\n",
       "    </tr>\n",
       "    <tr>\n",
       "      <td>2</td>\n",
       "      <td>U Launcher Lite – FREE Live Cool Themes, Hide ...</td>\n",
       "      <td>ART_AND_DESIGN</td>\n",
       "      <td>4.7</td>\n",
       "      <td>87510.0</td>\n",
       "      <td>8.7</td>\n",
       "      <td>5,000,000+</td>\n",
       "      <td>Free</td>\n",
       "      <td>0.0</td>\n",
       "      <td>Everyone</td>\n",
       "      <td>Art &amp; Design</td>\n",
       "      <td>August 1, 2018</td>\n",
       "      <td>1.2.4</td>\n",
       "      <td>4.0.3 and up</td>\n",
       "    </tr>\n",
       "    <tr>\n",
       "      <td>3</td>\n",
       "      <td>Sketch - Draw &amp; Paint</td>\n",
       "      <td>ART_AND_DESIGN</td>\n",
       "      <td>4.5</td>\n",
       "      <td>215644.0</td>\n",
       "      <td>25.0</td>\n",
       "      <td>50,000,000+</td>\n",
       "      <td>Free</td>\n",
       "      <td>0.0</td>\n",
       "      <td>Teen</td>\n",
       "      <td>Art &amp; Design</td>\n",
       "      <td>June 8, 2018</td>\n",
       "      <td>Varies with device</td>\n",
       "      <td>4.2 and up</td>\n",
       "    </tr>\n",
       "    <tr>\n",
       "      <td>4</td>\n",
       "      <td>Pixel Draw - Number Art Coloring Book</td>\n",
       "      <td>ART_AND_DESIGN</td>\n",
       "      <td>4.3</td>\n",
       "      <td>967.0</td>\n",
       "      <td>2.8</td>\n",
       "      <td>100,000+</td>\n",
       "      <td>Free</td>\n",
       "      <td>0.0</td>\n",
       "      <td>Everyone</td>\n",
       "      <td>Art &amp; Design;Creativity</td>\n",
       "      <td>June 20, 2018</td>\n",
       "      <td>1.1</td>\n",
       "      <td>4.4 and up</td>\n",
       "    </tr>\n",
       "  </tbody>\n",
       "</table>\n",
       "</div>"
      ],
      "text/plain": [
       "                                                 App        Category Rating  \\\n",
       "0     Photo Editor & Candy Camera & Grid & ScrapBook  ART_AND_DESIGN    4.1   \n",
       "1                                Coloring book moana  ART_AND_DESIGN    3.9   \n",
       "2  U Launcher Lite – FREE Live Cool Themes, Hide ...  ART_AND_DESIGN    4.7   \n",
       "3                              Sketch - Draw & Paint  ART_AND_DESIGN    4.5   \n",
       "4              Pixel Draw - Number Art Coloring Book  ART_AND_DESIGN    4.3   \n",
       "\n",
       "    Reviews  Size     Installs  Type  Price Content Rating  \\\n",
       "0     159.0  19.0      10,000+  Free    0.0       Everyone   \n",
       "1     967.0  14.0     500,000+  Free    0.0       Everyone   \n",
       "2   87510.0   8.7   5,000,000+  Free    0.0       Everyone   \n",
       "3  215644.0  25.0  50,000,000+  Free    0.0           Teen   \n",
       "4     967.0   2.8     100,000+  Free    0.0       Everyone   \n",
       "\n",
       "                      Genres      Last Updated         Current Ver  \\\n",
       "0               Art & Design   January 7, 2018               1.0.0   \n",
       "1  Art & Design;Pretend Play  January 15, 2018               2.0.0   \n",
       "2               Art & Design    August 1, 2018               1.2.4   \n",
       "3               Art & Design      June 8, 2018  Varies with device   \n",
       "4    Art & Design;Creativity     June 20, 2018                 1.1   \n",
       "\n",
       "    Android Ver  \n",
       "0  4.0.3 and up  \n",
       "1  4.0.3 and up  \n",
       "2  4.0.3 and up  \n",
       "3    4.2 and up  \n",
       "4    4.4 and up  "
      ]
     },
     "execution_count": 31,
     "metadata": {},
     "output_type": "execute_result"
    }
   ],
   "source": [
    "data.head()"
   ]
  },
  {
   "cell_type": "markdown",
   "metadata": {},
   "source": [
    "## Fix the Category"
   ]
  },
  {
   "cell_type": "code",
   "execution_count": 32,
   "metadata": {},
   "outputs": [
    {
     "data": {
      "text/plain": [
       "array(['ART_AND_DESIGN', 'AUTO_AND_VEHICLES', 'BEAUTY',\n",
       "       'BOOKS_AND_REFERENCE', 'BUSINESS', 'COMICS', 'COMMUNICATION',\n",
       "       'DATING', 'EDUCATION', 'ENTERTAINMENT', 'EVENTS', 'FINANCE',\n",
       "       'FOOD_AND_DRINK', 'HEALTH_AND_FITNESS', 'HOUSE_AND_HOME',\n",
       "       'LIBRARIES_AND_DEMO', 'LIFESTYLE', 'GAME', 'FAMILY', 'MEDICAL',\n",
       "       'SOCIAL', 'SHOPPING', 'PHOTOGRAPHY', 'SPORTS', 'TRAVEL_AND_LOCAL',\n",
       "       'TOOLS', 'PERSONALIZATION', 'PRODUCTIVITY', 'PARENTING', 'WEATHER',\n",
       "       'VIDEO_PLAYERS', 'NEWS_AND_MAGAZINES', 'MAPS_AND_NAVIGATION',\n",
       "       ' traffic jams', 'Face', '1.9'], dtype=object)"
      ]
     },
     "execution_count": 32,
     "metadata": {},
     "output_type": "execute_result"
    }
   ],
   "source": [
    "data['Category'].unique()"
   ]
  },
  {
   "cell_type": "code",
   "execution_count": 33,
   "metadata": {},
   "outputs": [],
   "source": [
    "def lower_categroy (c):\n",
    "    return c.title()"
   ]
  },
  {
   "cell_type": "code",
   "execution_count": 34,
   "metadata": {},
   "outputs": [
    {
     "data": {
      "text/plain": [
       "'Clash_Of_Clans'"
      ]
     },
     "execution_count": 34,
     "metadata": {},
     "output_type": "execute_result"
    }
   ],
   "source": [
    "lower_categroy('CLASH_OF_CLANS')"
   ]
  },
  {
   "cell_type": "code",
   "execution_count": 35,
   "metadata": {},
   "outputs": [],
   "source": [
    "data['Category']=data['Category'].apply(lower_categroy)"
   ]
  },
  {
   "cell_type": "code",
   "execution_count": 36,
   "metadata": {},
   "outputs": [
    {
     "data": {
      "text/plain": [
       "array(['Art_And_Design', 'Auto_And_Vehicles', 'Beauty',\n",
       "       'Books_And_Reference', 'Business', 'Comics', 'Communication',\n",
       "       'Dating', 'Education', 'Entertainment', 'Events', 'Finance',\n",
       "       'Food_And_Drink', 'Health_And_Fitness', 'House_And_Home',\n",
       "       'Libraries_And_Demo', 'Lifestyle', 'Game', 'Family', 'Medical',\n",
       "       'Social', 'Shopping', 'Photography', 'Sports', 'Travel_And_Local',\n",
       "       'Tools', 'Personalization', 'Productivity', 'Parenting', 'Weather',\n",
       "       'Video_Players', 'News_And_Magazines', 'Maps_And_Navigation',\n",
       "       ' Traffic Jams', 'Face', '1.9'], dtype=object)"
      ]
     },
     "execution_count": 36,
     "metadata": {},
     "output_type": "execute_result"
    }
   ],
   "source": [
    "data['Category'].unique()"
   ]
  },
  {
   "cell_type": "markdown",
   "metadata": {},
   "source": [
    "## Fix the Installs"
   ]
  },
  {
   "cell_type": "code",
   "execution_count": 37,
   "metadata": {},
   "outputs": [
    {
     "data": {
      "text/plain": [
       "array(['10,000+', '500,000+', '5,000,000+', '50,000,000+', '100,000+',\n",
       "       '50,000+', '1,000,000+', '10,000,000+', '5,000+', '100,000,000+',\n",
       "       '1,000,000,000+', '1,000+', '500,000,000+', '50+', '100+', '500+',\n",
       "       '10+', '1+', '5+', '4.4', '0+', '4.2', '0', 'Free'], dtype=object)"
      ]
     },
     "execution_count": 37,
     "metadata": {},
     "output_type": "execute_result"
    }
   ],
   "source": [
    "data['Installs'].unique()"
   ]
  },
  {
   "cell_type": "code",
   "execution_count": 38,
   "metadata": {},
   "outputs": [],
   "source": [
    "data['Installs']=data.Installs.str.replace(',','')"
   ]
  },
  {
   "cell_type": "code",
   "execution_count": 39,
   "metadata": {},
   "outputs": [],
   "source": [
    "data['Installs']=data['Installs'].str.replace('+','')"
   ]
  },
  {
   "cell_type": "code",
   "execution_count": 40,
   "metadata": {},
   "outputs": [
    {
     "data": {
      "text/plain": [
       "array(['10000', '500000', '5000000', '50000000', '100000', '50000',\n",
       "       '1000000', '10000000', '5000', '100000000', '1000000000', '1000',\n",
       "       '500000000', '50', '100', '500', '10', '1', '5', '4.4', '0', '4.2',\n",
       "       'Free'], dtype=object)"
      ]
     },
     "execution_count": 40,
     "metadata": {},
     "output_type": "execute_result"
    }
   ],
   "source": [
    "data['Installs'].unique()"
   ]
  },
  {
   "cell_type": "code",
   "execution_count": 41,
   "metadata": {},
   "outputs": [
    {
     "data": {
      "text/html": [
       "<div>\n",
       "<style scoped>\n",
       "    .dataframe tbody tr th:only-of-type {\n",
       "        vertical-align: middle;\n",
       "    }\n",
       "\n",
       "    .dataframe tbody tr th {\n",
       "        vertical-align: top;\n",
       "    }\n",
       "\n",
       "    .dataframe thead th {\n",
       "        text-align: right;\n",
       "    }\n",
       "</style>\n",
       "<table border=\"1\" class=\"dataframe\">\n",
       "  <thead>\n",
       "    <tr style=\"text-align: right;\">\n",
       "      <th></th>\n",
       "      <th>App</th>\n",
       "      <th>Category</th>\n",
       "      <th>Rating</th>\n",
       "      <th>Reviews</th>\n",
       "      <th>Size</th>\n",
       "      <th>Installs</th>\n",
       "      <th>Type</th>\n",
       "      <th>Price</th>\n",
       "      <th>Content Rating</th>\n",
       "      <th>Genres</th>\n",
       "      <th>Last Updated</th>\n",
       "      <th>Current Ver</th>\n",
       "      <th>Android Ver</th>\n",
       "    </tr>\n",
       "  </thead>\n",
       "  <tbody>\n",
       "    <tr>\n",
       "      <td>0</td>\n",
       "      <td>Photo Editor &amp; Candy Camera &amp; Grid &amp; ScrapBook</td>\n",
       "      <td>Art_And_Design</td>\n",
       "      <td>4.1</td>\n",
       "      <td>159.0</td>\n",
       "      <td>19.0</td>\n",
       "      <td>10000</td>\n",
       "      <td>Free</td>\n",
       "      <td>0.0</td>\n",
       "      <td>Everyone</td>\n",
       "      <td>Art &amp; Design</td>\n",
       "      <td>January 7, 2018</td>\n",
       "      <td>1.0.0</td>\n",
       "      <td>4.0.3 and up</td>\n",
       "    </tr>\n",
       "    <tr>\n",
       "      <td>1</td>\n",
       "      <td>Coloring book moana</td>\n",
       "      <td>Art_And_Design</td>\n",
       "      <td>3.9</td>\n",
       "      <td>967.0</td>\n",
       "      <td>14.0</td>\n",
       "      <td>500000</td>\n",
       "      <td>Free</td>\n",
       "      <td>0.0</td>\n",
       "      <td>Everyone</td>\n",
       "      <td>Art &amp; Design;Pretend Play</td>\n",
       "      <td>January 15, 2018</td>\n",
       "      <td>2.0.0</td>\n",
       "      <td>4.0.3 and up</td>\n",
       "    </tr>\n",
       "    <tr>\n",
       "      <td>2</td>\n",
       "      <td>U Launcher Lite – FREE Live Cool Themes, Hide ...</td>\n",
       "      <td>Art_And_Design</td>\n",
       "      <td>4.7</td>\n",
       "      <td>87510.0</td>\n",
       "      <td>8.7</td>\n",
       "      <td>5000000</td>\n",
       "      <td>Free</td>\n",
       "      <td>0.0</td>\n",
       "      <td>Everyone</td>\n",
       "      <td>Art &amp; Design</td>\n",
       "      <td>August 1, 2018</td>\n",
       "      <td>1.2.4</td>\n",
       "      <td>4.0.3 and up</td>\n",
       "    </tr>\n",
       "    <tr>\n",
       "      <td>3</td>\n",
       "      <td>Sketch - Draw &amp; Paint</td>\n",
       "      <td>Art_And_Design</td>\n",
       "      <td>4.5</td>\n",
       "      <td>215644.0</td>\n",
       "      <td>25.0</td>\n",
       "      <td>50000000</td>\n",
       "      <td>Free</td>\n",
       "      <td>0.0</td>\n",
       "      <td>Teen</td>\n",
       "      <td>Art &amp; Design</td>\n",
       "      <td>June 8, 2018</td>\n",
       "      <td>Varies with device</td>\n",
       "      <td>4.2 and up</td>\n",
       "    </tr>\n",
       "    <tr>\n",
       "      <td>4</td>\n",
       "      <td>Pixel Draw - Number Art Coloring Book</td>\n",
       "      <td>Art_And_Design</td>\n",
       "      <td>4.3</td>\n",
       "      <td>967.0</td>\n",
       "      <td>2.8</td>\n",
       "      <td>100000</td>\n",
       "      <td>Free</td>\n",
       "      <td>0.0</td>\n",
       "      <td>Everyone</td>\n",
       "      <td>Art &amp; Design;Creativity</td>\n",
       "      <td>June 20, 2018</td>\n",
       "      <td>1.1</td>\n",
       "      <td>4.4 and up</td>\n",
       "    </tr>\n",
       "  </tbody>\n",
       "</table>\n",
       "</div>"
      ],
      "text/plain": [
       "                                                 App        Category Rating  \\\n",
       "0     Photo Editor & Candy Camera & Grid & ScrapBook  Art_And_Design    4.1   \n",
       "1                                Coloring book moana  Art_And_Design    3.9   \n",
       "2  U Launcher Lite – FREE Live Cool Themes, Hide ...  Art_And_Design    4.7   \n",
       "3                              Sketch - Draw & Paint  Art_And_Design    4.5   \n",
       "4              Pixel Draw - Number Art Coloring Book  Art_And_Design    4.3   \n",
       "\n",
       "    Reviews  Size  Installs  Type  Price Content Rating  \\\n",
       "0     159.0  19.0     10000  Free    0.0       Everyone   \n",
       "1     967.0  14.0    500000  Free    0.0       Everyone   \n",
       "2   87510.0   8.7   5000000  Free    0.0       Everyone   \n",
       "3  215644.0  25.0  50000000  Free    0.0           Teen   \n",
       "4     967.0   2.8    100000  Free    0.0       Everyone   \n",
       "\n",
       "                      Genres      Last Updated         Current Ver  \\\n",
       "0               Art & Design   January 7, 2018               1.0.0   \n",
       "1  Art & Design;Pretend Play  January 15, 2018               2.0.0   \n",
       "2               Art & Design    August 1, 2018               1.2.4   \n",
       "3               Art & Design      June 8, 2018  Varies with device   \n",
       "4    Art & Design;Creativity     June 20, 2018                 1.1   \n",
       "\n",
       "    Android Ver  \n",
       "0  4.0.3 and up  \n",
       "1  4.0.3 and up  \n",
       "2  4.0.3 and up  \n",
       "3    4.2 and up  \n",
       "4    4.4 and up  "
      ]
     },
     "execution_count": 41,
     "metadata": {},
     "output_type": "execute_result"
    }
   ],
   "source": [
    "data.head()"
   ]
  },
  {
   "cell_type": "markdown",
   "metadata": {},
   "source": [
    "## Fix the Android ver"
   ]
  },
  {
   "cell_type": "code",
   "execution_count": 42,
   "metadata": {},
   "outputs": [
    {
     "data": {
      "text/plain": [
       "array(['4.0.3 and up', '4.2 and up', '4.4 and up', '2.3 and up',\n",
       "       '3.0 and up', '4.1 and up', '4.0 and up', '2.3.3 and up',\n",
       "       'Varies with device', '2.2 and up', '5.0 and up', '6.0 and up',\n",
       "       '1.6 and up', '1.5 and up', '2.1 and up', '7.0 and up',\n",
       "       '5.1 and up', '4.3 and up', '4.0.3 - 7.1.1', '2.0 and up',\n",
       "       '3.2 and up', '4.4W and up', '7.1 and up', '7.0 - 7.1.1',\n",
       "       '8.0 and up', '5.0 - 8.0', '3.1 and up', 'Maps & Navigation',\n",
       "       '2.0.1 and up', '4.1 - 7.1.1', 'NaN', 'Health & Fitness',\n",
       "       '5.0 - 6.0', '1.0 and up', '2.2 - 7.1.1', '5.0 - 7.1.1', None],\n",
       "      dtype=object)"
      ]
     },
     "execution_count": 42,
     "metadata": {},
     "output_type": "execute_result"
    }
   ],
   "source": [
    "data['Android Ver'].unique()"
   ]
  },
  {
   "cell_type": "code",
   "execution_count": 43,
   "metadata": {},
   "outputs": [],
   "source": [
    "def fix_ver(v):\n",
    "    \n",
    "    try:\n",
    "        if v == 'Varies with device':\n",
    "            return np.nan\n",
    "        \n",
    "        elif v == '4.4W and up' :\n",
    "            return v.replace('w','')\n",
    "        else :\n",
    "            return v\n",
    "    except :\n",
    "        return v"
   ]
  },
  {
   "cell_type": "code",
   "execution_count": 44,
   "metadata": {},
   "outputs": [],
   "source": [
    "data['Android Ver'] =data['Android Ver'].apply(fix_ver)"
   ]
  },
  {
   "cell_type": "code",
   "execution_count": 45,
   "metadata": {},
   "outputs": [
    {
     "data": {
      "text/plain": [
       "array(['4.0.3 and up', '4.2 and up', '4.4 and up', '2.3 and up',\n",
       "       '3.0 and up', '4.1 and up', '4.0 and up', '2.3.3 and up', nan,\n",
       "       '2.2 and up', '5.0 and up', '6.0 and up', '1.6 and up',\n",
       "       '1.5 and up', '2.1 and up', '7.0 and up', '5.1 and up',\n",
       "       '4.3 and up', '4.0.3 - 7.1.1', '2.0 and up', '3.2 and up',\n",
       "       '4.4W and up', '7.1 and up', '7.0 - 7.1.1', '8.0 and up',\n",
       "       '5.0 - 8.0', '3.1 and up', 'Maps & Navigation', '2.0.1 and up',\n",
       "       '4.1 - 7.1.1', 'NaN', 'Health & Fitness', '5.0 - 6.0',\n",
       "       '1.0 and up', '2.2 - 7.1.1', '5.0 - 7.1.1', None], dtype=object)"
      ]
     },
     "execution_count": 45,
     "metadata": {},
     "output_type": "execute_result"
    }
   ],
   "source": [
    "data['Android Ver'].unique()"
   ]
  },
  {
   "cell_type": "markdown",
   "metadata": {},
   "source": [
    "## Fix the Updated"
   ]
  },
  {
   "cell_type": "code",
   "execution_count": 46,
   "metadata": {},
   "outputs": [
    {
     "data": {
      "text/plain": [
       "array(['January 7, 2018', 'January 15, 2018', 'August 1, 2018', ...,\n",
       "       'January 20, 2014', 'February 16, 2014', 'March 23, 2014'],\n",
       "      dtype=object)"
      ]
     },
     "execution_count": 46,
     "metadata": {},
     "output_type": "execute_result"
    }
   ],
   "source": [
    "data['Last Updated'].unique()"
   ]
  },
  {
   "cell_type": "code",
   "execution_count": 47,
   "metadata": {},
   "outputs": [],
   "source": [
    "data['Last Updated'] = pd.to_datetime(data['Last Updated'], errors='coerce')\n",
    "\n",
    "data = data.dropna(subset=['Last Updated'])\n",
    "\n",
    "data.loc[:,'Last Updated'] = data['Last Updated'].dt.strftime('%Y-%m-%d')"
   ]
  },
  {
   "cell_type": "code",
   "execution_count": 48,
   "metadata": {},
   "outputs": [
    {
     "data": {
      "text/plain": [
       "array(['2018-01-07', '2018-01-15', '2018-08-01', ..., '2014-01-20',\n",
       "       '2014-02-16', '2014-03-23'], dtype=object)"
      ]
     },
     "execution_count": 48,
     "metadata": {},
     "output_type": "execute_result"
    }
   ],
   "source": [
    "data['Last Updated'].unique()"
   ]
  },
  {
   "cell_type": "markdown",
   "metadata": {},
   "source": [
    "## Top 10 Highest rating Apps in google play store in terms of categories"
   ]
  },
  {
   "cell_type": "code",
   "execution_count": 49,
   "metadata": {},
   "outputs": [],
   "source": [
    "data['Rating'] = pd.to_numeric(data['Rating'], errors='coerce')\n"
   ]
  },
  {
   "cell_type": "code",
   "execution_count": 50,
   "metadata": {},
   "outputs": [],
   "source": [
    "top_rating = data.sort_values(['Rating'], ascending=False)[['App', 'Category', 'Rating']].head(11)\n"
   ]
  },
  {
   "cell_type": "code",
   "execution_count": 51,
   "metadata": {},
   "outputs": [
    {
     "data": {
      "text/html": [
       "<div>\n",
       "<style scoped>\n",
       "    .dataframe tbody tr th:only-of-type {\n",
       "        vertical-align: middle;\n",
       "    }\n",
       "\n",
       "    .dataframe tbody tr th {\n",
       "        vertical-align: top;\n",
       "    }\n",
       "\n",
       "    .dataframe thead th {\n",
       "        text-align: right;\n",
       "    }\n",
       "</style>\n",
       "<table border=\"1\" class=\"dataframe\">\n",
       "  <thead>\n",
       "    <tr style=\"text-align: right;\">\n",
       "      <th></th>\n",
       "      <th>App</th>\n",
       "      <th>Category</th>\n",
       "      <th>Rating</th>\n",
       "    </tr>\n",
       "  </thead>\n",
       "  <tbody>\n",
       "    <tr>\n",
       "      <td>9056</td>\n",
       "      <td>Santa's Monster Shootout DX</td>\n",
       "      <td>Game</td>\n",
       "      <td>5.0</td>\n",
       "    </tr>\n",
       "    <tr>\n",
       "      <td>8395</td>\n",
       "      <td>DG TV</td>\n",
       "      <td>News_And_Magazines</td>\n",
       "      <td>5.0</td>\n",
       "    </tr>\n",
       "    <tr>\n",
       "      <td>8493</td>\n",
       "      <td>PK and DK Audio App</td>\n",
       "      <td>Family</td>\n",
       "      <td>5.0</td>\n",
       "    </tr>\n",
       "    <tr>\n",
       "      <td>6330</td>\n",
       "      <td>HON. B.J. ACS COLLEGE ALE</td>\n",
       "      <td>Family</td>\n",
       "      <td>5.0</td>\n",
       "    </tr>\n",
       "    <tr>\n",
       "      <td>6342</td>\n",
       "      <td>BJ Foods</td>\n",
       "      <td>Business</td>\n",
       "      <td>5.0</td>\n",
       "    </tr>\n",
       "    <tr>\n",
       "      <td>6363</td>\n",
       "      <td>Read it easy for BK</td>\n",
       "      <td>Lifestyle</td>\n",
       "      <td>5.0</td>\n",
       "    </tr>\n",
       "    <tr>\n",
       "      <td>9766</td>\n",
       "      <td>ER Assist</td>\n",
       "      <td>Productivity</td>\n",
       "      <td>5.0</td>\n",
       "    </tr>\n",
       "    <tr>\n",
       "      <td>6364</td>\n",
       "      <td>BK Video Status</td>\n",
       "      <td>Family</td>\n",
       "      <td>5.0</td>\n",
       "    </tr>\n",
       "    <tr>\n",
       "      <td>6372</td>\n",
       "      <td>BK Formula Calculator</td>\n",
       "      <td>Tools</td>\n",
       "      <td>5.0</td>\n",
       "    </tr>\n",
       "    <tr>\n",
       "      <td>6375</td>\n",
       "      <td>Dr Bk Sachin bhai</td>\n",
       "      <td>Lifestyle</td>\n",
       "      <td>5.0</td>\n",
       "    </tr>\n",
       "    <tr>\n",
       "      <td>9806</td>\n",
       "      <td>Dr. ES PV Calculator</td>\n",
       "      <td>Tools</td>\n",
       "      <td>5.0</td>\n",
       "    </tr>\n",
       "  </tbody>\n",
       "</table>\n",
       "</div>"
      ],
      "text/plain": [
       "                              App            Category  Rating\n",
       "9056  Santa's Monster Shootout DX                Game     5.0\n",
       "8395                        DG TV  News_And_Magazines     5.0\n",
       "8493          PK and DK Audio App              Family     5.0\n",
       "6330    HON. B.J. ACS COLLEGE ALE              Family     5.0\n",
       "6342                     BJ Foods            Business     5.0\n",
       "6363          Read it easy for BK           Lifestyle     5.0\n",
       "9766                    ER Assist        Productivity     5.0\n",
       "6364              BK Video Status              Family     5.0\n",
       "6372        BK Formula Calculator               Tools     5.0\n",
       "6375            Dr Bk Sachin bhai           Lifestyle     5.0\n",
       "9806         Dr. ES PV Calculator               Tools     5.0"
      ]
     },
     "execution_count": 51,
     "metadata": {},
     "output_type": "execute_result"
    }
   ],
   "source": [
    "top_rating"
   ]
  },
  {
   "cell_type": "markdown",
   "metadata": {},
   "source": [
    "## Number of Application in terms of Rating"
   ]
  },
  {
   "cell_type": "code",
   "execution_count": 52,
   "metadata": {},
   "outputs": [
    {
     "data": {
      "image/png": "[encoded data removed]",
      "text/plain": [
       "<Figure size 1080x576 with 1 Axes>"
      ]
     },
     "metadata": {},
     "output_type": "display_data"
    }
   ],
   "source": [
    "sns.set_style('darkgrid')\n",
    "plt.figure(figsize=(15, 8))\n",
    "sns.countplot(x='Rating', data=data)\n",
    "plt.title('Number of Apps Per Rating')\n",
    "plt.xticks(rotation=80)\n",
    "plt.ylabel('Number of Apps')\n",
    "plt.gca().invert_xaxis()\n",
    "plt.show()"
   ]
  },
  {
   "cell_type": "markdown",
   "metadata": {},
   "source": [
    "## Number of Application in terms of Category\n"
   ]
  },
  {
   "cell_type": "code",
   "execution_count": 53,
   "metadata": {},
   "outputs": [
    {
     "data": {
      "image/png": "[encoded data removed]",
      "text/plain": [
       "<Figure size 1080x576 with 1 Axes>"
      ]
     },
     "metadata": {},
     "output_type": "display_data"
    }
   ],
   "source": [
    "sns.set_style('darkgrid')\n",
    "plt.figure(figsize=(15,8))\n",
    "sns.countplot(x='Category',data=data)\n",
    "plt.title('Number of Apps Per Category')\n",
    "plt.ylabel('Number of Apps')\n",
    "plt.xticks(rotation=80)\n",
    "plt.show()"
   ]
  },
  {
   "cell_type": "markdown",
   "metadata": {},
   "source": [
    "## Top 10 apps which has more downloads"
   ]
  },
  {
   "cell_type": "code",
   "execution_count": 54,
   "metadata": {},
   "outputs": [],
   "source": [
    "downloads=data.sort_values('Installs',ascending=False)"
   ]
  },
  {
   "cell_type": "code",
   "execution_count": 55,
   "metadata": {},
   "outputs": [],
   "source": [
    "top_downloads=downloads.loc[:,['App','Installs','Category']]"
   ]
  },
  {
   "cell_type": "code",
   "execution_count": 56,
   "metadata": {},
   "outputs": [
    {
     "data": {
      "text/html": [
       "<div>\n",
       "<style scoped>\n",
       "    .dataframe tbody tr th:only-of-type {\n",
       "        vertical-align: middle;\n",
       "    }\n",
       "\n",
       "    .dataframe tbody tr th {\n",
       "        vertical-align: top;\n",
       "    }\n",
       "\n",
       "    .dataframe thead th {\n",
       "        text-align: right;\n",
       "    }\n",
       "</style>\n",
       "<table border=\"1\" class=\"dataframe\">\n",
       "  <thead>\n",
       "    <tr style=\"text-align: right;\">\n",
       "      <th></th>\n",
       "      <th>App</th>\n",
       "      <th>Installs</th>\n",
       "      <th>Category</th>\n",
       "    </tr>\n",
       "  </thead>\n",
       "  <tbody>\n",
       "    <tr>\n",
       "      <td>3879</td>\n",
       "      <td>Pou</td>\n",
       "      <td>500000000</td>\n",
       "      <td>Family</td>\n",
       "    </tr>\n",
       "    <tr>\n",
       "      <td>3473</td>\n",
       "      <td>Dropbox</td>\n",
       "      <td>500000000</td>\n",
       "      <td>Productivity</td>\n",
       "    </tr>\n",
       "    <tr>\n",
       "      <td>7536</td>\n",
       "      <td>Security Master - Antivirus, VPN, AppLock, Boo...</td>\n",
       "      <td>500000000</td>\n",
       "      <td>Tools</td>\n",
       "    </tr>\n",
       "    <tr>\n",
       "      <td>465</td>\n",
       "      <td>imo free video calls and chat</td>\n",
       "      <td>500000000</td>\n",
       "      <td>Communication</td>\n",
       "    </tr>\n",
       "    <tr>\n",
       "      <td>467</td>\n",
       "      <td>Viber Messenger</td>\n",
       "      <td>500000000</td>\n",
       "      <td>Communication</td>\n",
       "    </tr>\n",
       "    <tr>\n",
       "      <td>474</td>\n",
       "      <td>LINE: Free Calls &amp; Messages</td>\n",
       "      <td>500000000</td>\n",
       "      <td>Communication</td>\n",
       "    </tr>\n",
       "    <tr>\n",
       "      <td>347</td>\n",
       "      <td>imo free video calls and chat</td>\n",
       "      <td>500000000</td>\n",
       "      <td>Communication</td>\n",
       "    </tr>\n",
       "    <tr>\n",
       "      <td>1966</td>\n",
       "      <td>Candy Crush Saga</td>\n",
       "      <td>500000000</td>\n",
       "      <td>Game</td>\n",
       "    </tr>\n",
       "    <tr>\n",
       "      <td>4365</td>\n",
       "      <td>MX Player</td>\n",
       "      <td>500000000</td>\n",
       "      <td>Video_Players</td>\n",
       "    </tr>\n",
       "    <tr>\n",
       "      <td>1759</td>\n",
       "      <td>Temple Run 2</td>\n",
       "      <td>500000000</td>\n",
       "      <td>Game</td>\n",
       "    </tr>\n",
       "    <tr>\n",
       "      <td>342</td>\n",
       "      <td>Viber Messenger</td>\n",
       "      <td>500000000</td>\n",
       "      <td>Communication</td>\n",
       "    </tr>\n",
       "  </tbody>\n",
       "</table>\n",
       "</div>"
      ],
      "text/plain": [
       "                                                    App   Installs  \\\n",
       "3879                                                Pou  500000000   \n",
       "3473                                            Dropbox  500000000   \n",
       "7536  Security Master - Antivirus, VPN, AppLock, Boo...  500000000   \n",
       "465                       imo free video calls and chat  500000000   \n",
       "467                                     Viber Messenger  500000000   \n",
       "474                         LINE: Free Calls & Messages  500000000   \n",
       "347                       imo free video calls and chat  500000000   \n",
       "1966                                   Candy Crush Saga  500000000   \n",
       "4365                                          MX Player  500000000   \n",
       "1759                                       Temple Run 2  500000000   \n",
       "342                                     Viber Messenger  500000000   \n",
       "\n",
       "           Category  \n",
       "3879         Family  \n",
       "3473   Productivity  \n",
       "7536          Tools  \n",
       "465   Communication  \n",
       "467   Communication  \n",
       "474   Communication  \n",
       "347   Communication  \n",
       "1966           Game  \n",
       "4365  Video_Players  \n",
       "1759           Game  \n",
       "342   Communication  "
      ]
     },
     "execution_count": 56,
     "metadata": {},
     "output_type": "execute_result"
    }
   ],
   "source": [
    "top_downloads.head(11)"
   ]
  },
  {
   "cell_type": "markdown",
   "metadata": {},
   "source": [
    "## Which 10 apps from the 'FAMILY' category are having the lowest rating and highest rating"
   ]
  },
  {
   "cell_type": "code",
   "execution_count": 57,
   "metadata": {},
   "outputs": [],
   "source": [
    "lr=data[data['Category'] == 'Family']\n",
    "lower_rating=lr.sort_values(by=['Rating'], ascending=True)"
   ]
  },
  {
   "cell_type": "code",
   "execution_count": 58,
   "metadata": {},
   "outputs": [],
   "source": [
    "family_lower_rating=lower_rating.loc[:,['App','Rating','Installs','Category']]"
   ]
  },
  {
   "cell_type": "code",
   "execution_count": 59,
   "metadata": {},
   "outputs": [
    {
     "data": {
      "text/html": [
       "<div>\n",
       "<style scoped>\n",
       "    .dataframe tbody tr th:only-of-type {\n",
       "        vertical-align: middle;\n",
       "    }\n",
       "\n",
       "    .dataframe tbody tr th {\n",
       "        vertical-align: top;\n",
       "    }\n",
       "\n",
       "    .dataframe thead th {\n",
       "        text-align: right;\n",
       "    }\n",
       "</style>\n",
       "<table border=\"1\" class=\"dataframe\">\n",
       "  <thead>\n",
       "    <tr style=\"text-align: right;\">\n",
       "      <th></th>\n",
       "      <th>App</th>\n",
       "      <th>Rating</th>\n",
       "      <th>Installs</th>\n",
       "      <th>Category</th>\n",
       "    </tr>\n",
       "  </thead>\n",
       "  <tbody>\n",
       "    <tr>\n",
       "      <td>5978</td>\n",
       "      <td>Truck Driving Test Class 3 BC</td>\n",
       "      <td>1.0</td>\n",
       "      <td>50</td>\n",
       "      <td>Family</td>\n",
       "    </tr>\n",
       "    <tr>\n",
       "      <td>10324</td>\n",
       "      <td>FE Mechanical Engineering Prep</td>\n",
       "      <td>1.0</td>\n",
       "      <td>1000</td>\n",
       "      <td>Family</td>\n",
       "    </tr>\n",
       "    <tr>\n",
       "      <td>4127</td>\n",
       "      <td>Speech Therapy: F</td>\n",
       "      <td>1.0</td>\n",
       "      <td>10</td>\n",
       "      <td>Family</td>\n",
       "    </tr>\n",
       "    <tr>\n",
       "      <td>4905</td>\n",
       "      <td>AC REMOTE UNIVERSAL-PRO</td>\n",
       "      <td>1.6</td>\n",
       "      <td>100000</td>\n",
       "      <td>Family</td>\n",
       "    </tr>\n",
       "    <tr>\n",
       "      <td>6135</td>\n",
       "      <td>BG TV App</td>\n",
       "      <td>1.7</td>\n",
       "      <td>100</td>\n",
       "      <td>Family</td>\n",
       "    </tr>\n",
       "    <tr>\n",
       "      <td>9176</td>\n",
       "      <td>EB Mobile</td>\n",
       "      <td>1.7</td>\n",
       "      <td>10000</td>\n",
       "      <td>Family</td>\n",
       "    </tr>\n",
       "    <tr>\n",
       "      <td>6812</td>\n",
       "      <td>Boston University Alumni</td>\n",
       "      <td>1.8</td>\n",
       "      <td>1000</td>\n",
       "      <td>Family</td>\n",
       "    </tr>\n",
       "    <tr>\n",
       "      <td>4904</td>\n",
       "      <td>Smart-AC Universal Remote Free</td>\n",
       "      <td>1.8</td>\n",
       "      <td>500000</td>\n",
       "      <td>Family</td>\n",
       "    </tr>\n",
       "    <tr>\n",
       "      <td>9890</td>\n",
       "      <td>TAXLANDIA</td>\n",
       "      <td>1.9</td>\n",
       "      <td>1000</td>\n",
       "      <td>Family</td>\n",
       "    </tr>\n",
       "    <tr>\n",
       "      <td>7416</td>\n",
       "      <td>CJ Fallon eBook Reader</td>\n",
       "      <td>1.9</td>\n",
       "      <td>5000</td>\n",
       "      <td>Family</td>\n",
       "    </tr>\n",
       "    <tr>\n",
       "      <td>6532</td>\n",
       "      <td>Yuzu eReader</td>\n",
       "      <td>1.9</td>\n",
       "      <td>50000</td>\n",
       "      <td>Family</td>\n",
       "    </tr>\n",
       "  </tbody>\n",
       "</table>\n",
       "</div>"
      ],
      "text/plain": [
       "                                  App  Rating Installs Category\n",
       "5978    Truck Driving Test Class 3 BC     1.0       50   Family\n",
       "10324  FE Mechanical Engineering Prep     1.0     1000   Family\n",
       "4127                Speech Therapy: F     1.0       10   Family\n",
       "4905          AC REMOTE UNIVERSAL-PRO     1.6   100000   Family\n",
       "6135                        BG TV App     1.7      100   Family\n",
       "9176                        EB Mobile     1.7    10000   Family\n",
       "6812         Boston University Alumni     1.8     1000   Family\n",
       "4904   Smart-AC Universal Remote Free     1.8   500000   Family\n",
       "9890                        TAXLANDIA     1.9     1000   Family\n",
       "7416           CJ Fallon eBook Reader     1.9     5000   Family\n",
       "6532                     Yuzu eReader     1.9    50000   Family"
      ]
     },
     "execution_count": 59,
     "metadata": {},
     "output_type": "execute_result"
    }
   ],
   "source": [
    "family_lower_rating.head(11)"
   ]
  },
  {
   "cell_type": "markdown",
   "metadata": {},
   "source": [
    "##  Highest rating"
   ]
  },
  {
   "cell_type": "code",
   "execution_count": 60,
   "metadata": {},
   "outputs": [
    {
     "data": {
      "text/html": [
       "<div>\n",
       "<style scoped>\n",
       "    .dataframe tbody tr th:only-of-type {\n",
       "        vertical-align: middle;\n",
       "    }\n",
       "\n",
       "    .dataframe tbody tr th {\n",
       "        vertical-align: top;\n",
       "    }\n",
       "\n",
       "    .dataframe thead th {\n",
       "        text-align: right;\n",
       "    }\n",
       "</style>\n",
       "<table border=\"1\" class=\"dataframe\">\n",
       "  <thead>\n",
       "    <tr style=\"text-align: right;\">\n",
       "      <th></th>\n",
       "      <th>App</th>\n",
       "      <th>Rating</th>\n",
       "      <th>Installs</th>\n",
       "      <th>Category</th>\n",
       "    </tr>\n",
       "  </thead>\n",
       "  <tbody>\n",
       "    <tr>\n",
       "      <td>10837</td>\n",
       "      <td>Fr. Mike Schmitz Audio Teachings</td>\n",
       "      <td>5.0</td>\n",
       "      <td>100</td>\n",
       "      <td>Family</td>\n",
       "    </tr>\n",
       "    <tr>\n",
       "      <td>9531</td>\n",
       "      <td>Lyrics of Ek Paheli Leela</td>\n",
       "      <td>5.0</td>\n",
       "      <td>500</td>\n",
       "      <td>Family</td>\n",
       "    </tr>\n",
       "    <tr>\n",
       "      <td>7320</td>\n",
       "      <td>CG - Chemistry free</td>\n",
       "      <td>5.0</td>\n",
       "      <td>1000</td>\n",
       "      <td>Family</td>\n",
       "    </tr>\n",
       "    <tr>\n",
       "      <td>7307</td>\n",
       "      <td>CG FM</td>\n",
       "      <td>5.0</td>\n",
       "      <td>500</td>\n",
       "      <td>Family</td>\n",
       "    </tr>\n",
       "    <tr>\n",
       "      <td>7239</td>\n",
       "      <td>CF Life</td>\n",
       "      <td>5.0</td>\n",
       "      <td>100</td>\n",
       "      <td>Family</td>\n",
       "    </tr>\n",
       "    <tr>\n",
       "      <td>5246</td>\n",
       "      <td>Hey AJ! It's Bedtime!</td>\n",
       "      <td>5.0</td>\n",
       "      <td>10</td>\n",
       "      <td>Family</td>\n",
       "    </tr>\n",
       "    <tr>\n",
       "      <td>9496</td>\n",
       "      <td>Master E.K</td>\n",
       "      <td>5.0</td>\n",
       "      <td>1000</td>\n",
       "      <td>Family</td>\n",
       "    </tr>\n",
       "    <tr>\n",
       "      <td>9503</td>\n",
       "      <td>Pyaar Ek Dhoka</td>\n",
       "      <td>5.0</td>\n",
       "      <td>50</td>\n",
       "      <td>Family</td>\n",
       "    </tr>\n",
       "    <tr>\n",
       "      <td>7212</td>\n",
       "      <td>MCQ CE IT</td>\n",
       "      <td>5.0</td>\n",
       "      <td>1000</td>\n",
       "      <td>Family</td>\n",
       "    </tr>\n",
       "    <tr>\n",
       "      <td>7204</td>\n",
       "      <td>TI-84 CE Graphing Calculator Manual TI 84</td>\n",
       "      <td>5.0</td>\n",
       "      <td>100</td>\n",
       "      <td>Family</td>\n",
       "    </tr>\n",
       "    <tr>\n",
       "      <td>9511</td>\n",
       "      <td>Ek Bander Ne Kholi Dukan</td>\n",
       "      <td>5.0</td>\n",
       "      <td>10000</td>\n",
       "      <td>Family</td>\n",
       "    </tr>\n",
       "  </tbody>\n",
       "</table>\n",
       "</div>"
      ],
      "text/plain": [
       "                                             App  Rating Installs Category\n",
       "10837           Fr. Mike Schmitz Audio Teachings     5.0      100   Family\n",
       "9531                   Lyrics of Ek Paheli Leela     5.0      500   Family\n",
       "7320                         CG - Chemistry free     5.0     1000   Family\n",
       "7307                                       CG FM     5.0      500   Family\n",
       "7239                                     CF Life     5.0      100   Family\n",
       "5246                       Hey AJ! It's Bedtime!     5.0       10   Family\n",
       "9496                                  Master E.K     5.0     1000   Family\n",
       "9503                              Pyaar Ek Dhoka     5.0       50   Family\n",
       "7212                                   MCQ CE IT     5.0     1000   Family\n",
       "7204   TI-84 CE Graphing Calculator Manual TI 84     5.0      100   Family\n",
       "9511                    Ek Bander Ne Kholi Dukan     5.0    10000   Family"
      ]
     },
     "execution_count": 60,
     "metadata": {},
     "output_type": "execute_result"
    }
   ],
   "source": [
    "tr=data[data['Category'] == 'Family']\n",
    "top_rating=tr.sort_values(by=['Rating'], ascending=False)\n",
    "family_top_rating=top_rating.loc[:,['App','Rating','Installs','Category']]\n",
    "family_top_rating.head(11)"
   ]
  },
  {
   "cell_type": "markdown",
   "metadata": {},
   "source": [
    "## FREE AND PAID APPS\n"
   ]
  },
  {
   "cell_type": "code",
   "execution_count": 61,
   "metadata": {},
   "outputs": [
    {
     "data": {
      "image/png": "[encoded data removed]",
      "text/plain": [
       "<Figure size 720x360 with 1 Axes>"
      ]
     },
     "metadata": {},
     "output_type": "display_data"
    }
   ],
   "source": [
    "plt.figure(figsize=(10, 5))\n",
    "sns.countplot(data['Type'])\n",
    "plt.title('Type Distribution')\n",
    "plt.ylabel('Number of Apps')\n",
    "plt.show()"
   ]
  },
  {
   "cell_type": "code",
   "execution_count": 62,
   "metadata": {},
   "outputs": [
    {
     "data": {
      "text/plain": [
       "Free    10037\n",
       "Paid      800\n",
       "NaN         1\n",
       "Name: Type, dtype: int64"
      ]
     },
     "execution_count": 62,
     "metadata": {},
     "output_type": "execute_result"
    }
   ],
   "source": [
    "data['Type'].value_counts()"
   ]
  },
  {
   "cell_type": "code",
   "execution_count": 63,
   "metadata": {},
   "outputs": [],
   "source": [
    "data['Type'] = data['Type'].astype('category')\n"
   ]
  },
  {
   "cell_type": "code",
   "execution_count": 64,
   "metadata": {},
   "outputs": [],
   "source": [
    "data['Type'] = data['Type'].replace('NaN', np.nan).str.strip()"
   ]
  },
  {
   "cell_type": "code",
   "execution_count": 65,
   "metadata": {},
   "outputs": [],
   "source": [
    "data = data.dropna(subset=['Type'])"
   ]
  },
  {
   "cell_type": "code",
   "execution_count": 66,
   "metadata": {},
   "outputs": [
    {
     "data": {
      "image/png": "[encoded data removed]",
      "text/plain": [
       "<Figure size 720x360 with 1 Axes>"
      ]
     },
     "metadata": {},
     "output_type": "display_data"
    }
   ],
   "source": [
    "plt.figure(figsize=(10, 5))\n",
    "sns.countplot(data['Type'])\n",
    "plt.title('Type Distribution')\n",
    "plt.ylabel('Number of Apps')\n",
    "plt.show()\n"
   ]
  },
  {
   "cell_type": "markdown",
   "metadata": {},
   "source": [
    "## Relation between app category and app price#\n"
   ]
  },
  {
   "cell_type": "code",
   "execution_count": 67,
   "metadata": {},
   "outputs": [
    {
     "data": {
      "text/plain": [
       "Text(0.5, 1.0, 'App pricing trend across categories')"
      ]
     },
     "execution_count": 67,
     "metadata": {},
     "output_type": "execute_result"
    },
    {
     "data": {
      "image/png": "[encoded data removed]",
      "text/plain": [
       "<Figure size 1080x576 with 1 Axes>"
      ]
     },
     "metadata": {},
     "output_type": "display_data"
    }
   ],
   "source": [
    "fig, ax = plt.subplots()\n",
    "fig.set_size_inches(15, 8)\n",
    "\n",
    "popular_app_cats = data[data.Category.isin(['Game', 'Family', 'Photography',\n",
    "                                            'Medical', 'Tools', 'Finance',\n",
    "                                            'Lifestyle','Business'])]\n",
    "\n",
    "ax = sns.stripplot(x = popular_app_cats[\"Price\"], y = popular_app_cats[\"Category\"], jitter=True, linewidth=1)\n",
    "ax.set_title('App pricing trend across categories')"
   ]
  },
  {
   "cell_type": "markdown",
   "metadata": {},
   "source": [
    "## Filter out \"junk\" apps\n"
   ]
  },
  {
   "cell_type": "code",
   "execution_count": 68,
   "metadata": {},
   "outputs": [
    {
     "data": {
      "text/plain": [
       "Text(0.5, 1.0, 'App pricing trend across categories after filtering for junk apps')"
      ]
     },
     "execution_count": 68,
     "metadata": {},
     "output_type": "execute_result"
    },
    {
     "data": {
      "image/png": "[encoded data removed]",
      "text/plain": [
       "<Figure size 1080x576 with 1 Axes>"
      ]
     },
     "metadata": {},
     "output_type": "display_data"
    }
   ],
   "source": [
    "apps_under_100 = popular_app_cats[popular_app_cats[\"Price\"]<100]\n",
    "\n",
    "fig, ax = plt.subplots()\n",
    "fig.set_size_inches(15, 8)\n",
    "\n",
    "ax = sns.stripplot(x = \"Price\", y =\"Category\", data = apps_under_100, jitter = True, linewidth = 1)\n",
    "ax.set_title('App pricing trend across categories after filtering for junk apps')"
   ]
  }
 ],
 "metadata": {
  "kernelspec": {
   "display_name": "Python 3",
   "language": "python",
   "name": "python3"
  },
  "language_info": {
   "codemirror_mode": {
    "name": "ipython",
    "version": 3
   },
   "file_extension": ".py",
   "mimetype": "text/x-python",
   "name": "python",
   "nbconvert_exporter": "python",
   "pygments_lexer": "ipython3",
   "version": "3.7.4"
  }
 },
 "nbformat": 4,
 "nbformat_minor": 2
}
